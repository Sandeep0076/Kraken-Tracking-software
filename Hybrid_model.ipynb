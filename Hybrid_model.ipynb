{
  "nbformat": 4,
  "nbformat_minor": 0,
  "metadata": {
    "accelerator": "GPU",
    "colab": {
      "name": "Hybrid-model",
      "provenance": [],
      "collapsed_sections": [
        "w_t89SR2lFKy",
        "p3FjTxP5lNc3",
        "cInLjRhStUKA"
      ],
      "toc_visible": true,
      "include_colab_link": true
    },
    "kernelspec": {
      "display_name": "Python 3",
      "name": "python3"
    },
    "widgets": {
      "application/vnd.jupyter.widget-state+json": {
        "73f92d1ba15d441ea8f04647d446a5a0": {
          "model_module": "@jupyter-widgets/controls",
          "model_name": "HBoxModel",
          "state": {
            "_view_name": "HBoxView",
            "_dom_classes": [],
            "_model_name": "HBoxModel",
            "_view_module": "@jupyter-widgets/controls",
            "_model_module_version": "1.5.0",
            "_view_count": null,
            "_view_module_version": "1.5.0",
            "box_style": "",
            "layout": "IPY_MODEL_53db8bb00f3f4443ac716e0ae59014a3",
            "_model_module": "@jupyter-widgets/controls",
            "children": [
              "IPY_MODEL_9bfd3a38652c4cc385cb12486d85cf05",
              "IPY_MODEL_d7a7ede64be947a599b396d61207b4da"
            ]
          }
        },
        "53db8bb00f3f4443ac716e0ae59014a3": {
          "model_module": "@jupyter-widgets/base",
          "model_name": "LayoutModel",
          "state": {
            "_view_name": "LayoutView",
            "grid_template_rows": null,
            "right": null,
            "justify_content": null,
            "_view_module": "@jupyter-widgets/base",
            "overflow": null,
            "_model_module_version": "1.2.0",
            "_view_count": null,
            "flex_flow": null,
            "width": null,
            "min_width": null,
            "border": null,
            "align_items": null,
            "bottom": null,
            "_model_module": "@jupyter-widgets/base",
            "top": null,
            "grid_column": null,
            "overflow_y": null,
            "overflow_x": null,
            "grid_auto_flow": null,
            "grid_area": null,
            "grid_template_columns": null,
            "flex": null,
            "_model_name": "LayoutModel",
            "justify_items": null,
            "grid_row": null,
            "max_height": null,
            "align_content": null,
            "visibility": null,
            "align_self": null,
            "height": null,
            "min_height": null,
            "padding": null,
            "grid_auto_rows": null,
            "grid_gap": null,
            "max_width": null,
            "order": null,
            "_view_module_version": "1.2.0",
            "grid_template_areas": null,
            "object_position": null,
            "object_fit": null,
            "grid_auto_columns": null,
            "margin": null,
            "display": null,
            "left": null
          }
        },
        "9bfd3a38652c4cc385cb12486d85cf05": {
          "model_module": "@jupyter-widgets/controls",
          "model_name": "FloatProgressModel",
          "state": {
            "_view_name": "ProgressView",
            "style": "IPY_MODEL_28584ece32fe4a7faba766f28dd8cb8a",
            "_dom_classes": [],
            "description": "Downloading: 100%",
            "_model_name": "FloatProgressModel",
            "bar_style": "success",
            "max": 231508,
            "_view_module": "@jupyter-widgets/controls",
            "_model_module_version": "1.5.0",
            "value": 231508,
            "_view_count": null,
            "_view_module_version": "1.5.0",
            "orientation": "horizontal",
            "min": 0,
            "description_tooltip": null,
            "_model_module": "@jupyter-widgets/controls",
            "layout": "IPY_MODEL_6fea9648045d4cc999f35b3c39adaaaa"
          }
        },
        "d7a7ede64be947a599b396d61207b4da": {
          "model_module": "@jupyter-widgets/controls",
          "model_name": "HTMLModel",
          "state": {
            "_view_name": "HTMLView",
            "style": "IPY_MODEL_8741d755a4744fbe8e24dc86cecc89c7",
            "_dom_classes": [],
            "description": "",
            "_model_name": "HTMLModel",
            "placeholder": "​",
            "_view_module": "@jupyter-widgets/controls",
            "_model_module_version": "1.5.0",
            "value": " 232k/232k [00:00&lt;00:00, 305kB/s]",
            "_view_count": null,
            "_view_module_version": "1.5.0",
            "description_tooltip": null,
            "_model_module": "@jupyter-widgets/controls",
            "layout": "IPY_MODEL_1cbf17f018aa4007a50619af622046e6"
          }
        },
        "28584ece32fe4a7faba766f28dd8cb8a": {
          "model_module": "@jupyter-widgets/controls",
          "model_name": "ProgressStyleModel",
          "state": {
            "_view_name": "StyleView",
            "_model_name": "ProgressStyleModel",
            "description_width": "initial",
            "_view_module": "@jupyter-widgets/base",
            "_model_module_version": "1.5.0",
            "_view_count": null,
            "_view_module_version": "1.2.0",
            "bar_color": null,
            "_model_module": "@jupyter-widgets/controls"
          }
        },
        "6fea9648045d4cc999f35b3c39adaaaa": {
          "model_module": "@jupyter-widgets/base",
          "model_name": "LayoutModel",
          "state": {
            "_view_name": "LayoutView",
            "grid_template_rows": null,
            "right": null,
            "justify_content": null,
            "_view_module": "@jupyter-widgets/base",
            "overflow": null,
            "_model_module_version": "1.2.0",
            "_view_count": null,
            "flex_flow": null,
            "width": null,
            "min_width": null,
            "border": null,
            "align_items": null,
            "bottom": null,
            "_model_module": "@jupyter-widgets/base",
            "top": null,
            "grid_column": null,
            "overflow_y": null,
            "overflow_x": null,
            "grid_auto_flow": null,
            "grid_area": null,
            "grid_template_columns": null,
            "flex": null,
            "_model_name": "LayoutModel",
            "justify_items": null,
            "grid_row": null,
            "max_height": null,
            "align_content": null,
            "visibility": null,
            "align_self": null,
            "height": null,
            "min_height": null,
            "padding": null,
            "grid_auto_rows": null,
            "grid_gap": null,
            "max_width": null,
            "order": null,
            "_view_module_version": "1.2.0",
            "grid_template_areas": null,
            "object_position": null,
            "object_fit": null,
            "grid_auto_columns": null,
            "margin": null,
            "display": null,
            "left": null
          }
        },
        "8741d755a4744fbe8e24dc86cecc89c7": {
          "model_module": "@jupyter-widgets/controls",
          "model_name": "DescriptionStyleModel",
          "state": {
            "_view_name": "StyleView",
            "_model_name": "DescriptionStyleModel",
            "description_width": "",
            "_view_module": "@jupyter-widgets/base",
            "_model_module_version": "1.5.0",
            "_view_count": null,
            "_view_module_version": "1.2.0",
            "_model_module": "@jupyter-widgets/controls"
          }
        },
        "1cbf17f018aa4007a50619af622046e6": {
          "model_module": "@jupyter-widgets/base",
          "model_name": "LayoutModel",
          "state": {
            "_view_name": "LayoutView",
            "grid_template_rows": null,
            "right": null,
            "justify_content": null,
            "_view_module": "@jupyter-widgets/base",
            "overflow": null,
            "_model_module_version": "1.2.0",
            "_view_count": null,
            "flex_flow": null,
            "width": null,
            "min_width": null,
            "border": null,
            "align_items": null,
            "bottom": null,
            "_model_module": "@jupyter-widgets/base",
            "top": null,
            "grid_column": null,
            "overflow_y": null,
            "overflow_x": null,
            "grid_auto_flow": null,
            "grid_area": null,
            "grid_template_columns": null,
            "flex": null,
            "_model_name": "LayoutModel",
            "justify_items": null,
            "grid_row": null,
            "max_height": null,
            "align_content": null,
            "visibility": null,
            "align_self": null,
            "height": null,
            "min_height": null,
            "padding": null,
            "grid_auto_rows": null,
            "grid_gap": null,
            "max_width": null,
            "order": null,
            "_view_module_version": "1.2.0",
            "grid_template_areas": null,
            "object_position": null,
            "object_fit": null,
            "grid_auto_columns": null,
            "margin": null,
            "display": null,
            "left": null
          }
        }
      }
    }
  },
  "cells": [
    {
      "cell_type": "markdown",
      "metadata": {
        "id": "view-in-github",
        "colab_type": "text"
      },
      "source": [
        "<a href=\"https://colab.research.google.com/github/Sandeep0076/Project/blob/master/Hybrid_model.ipynb\" target=\"_parent\"><img src=\"https://colab.research.google.com/assets/colab-badge.svg\" alt=\"Open In Colab\"/></a>"
      ]
    },
    {
      "cell_type": "markdown",
      "metadata": {
        "id": "w_t89SR2lFKy"
      },
      "source": [
        "## Imports"
      ]
    },
    {
      "cell_type": "code",
      "metadata": {
        "id": "BJlOuLW_jSQB",
        "colab": {
          "base_uri": "https://localhost:8080/"
        },
        "outputId": "b5733b3f-4299-4e4e-a840-802b3ce8236c"
      },
      "source": [
        "\n",
        "from google.colab import drive\n",
        "drive.mount(\"/content/Gdrive\")"
      ],
      "execution_count": null,
      "outputs": [
        {
          "output_type": "stream",
          "text": [
            "Mounted at /content/Gdrive\n"
          ],
          "name": "stdout"
        }
      ]
    },
    {
      "cell_type": "code",
      "metadata": {
        "id": "KhxC5T8cjwxG",
        "colab": {
          "base_uri": "https://localhost:8080/"
        },
        "outputId": "cc6dafa3-d21d-4c78-cf1d-5d015bb1df27"
      },
      "source": [
        "!pip install transformers~=3.4.0\n",
        "!pip install boilerpy3\n",
        "#!pip install transformers\n",
        "#pip install pytorch-lightning"
      ],
      "execution_count": null,
      "outputs": [
        {
          "output_type": "stream",
          "text": [
            "Collecting transformers~=3.4.0\n",
            "\u001b[?25l  Downloading https://files.pythonhosted.org/packages/2c/4e/4f1ede0fd7a36278844a277f8d53c21f88f37f3754abf76a5d6224f76d4a/transformers-3.4.0-py3-none-any.whl (1.3MB)\n",
            "\u001b[K     |████████████████████████████████| 1.3MB 5.5MB/s \n",
            "\u001b[?25hCollecting sentencepiece!=0.1.92\n",
            "\u001b[?25l  Downloading https://files.pythonhosted.org/packages/f5/99/e0808cb947ba10f575839c43e8fafc9cc44e4a7a2c8f79c60db48220a577/sentencepiece-0.1.95-cp37-cp37m-manylinux2014_x86_64.whl (1.2MB)\n",
            "\u001b[K     |████████████████████████████████| 1.2MB 23.2MB/s \n",
            "\u001b[?25hRequirement already satisfied: packaging in /usr/local/lib/python3.7/dist-packages (from transformers~=3.4.0) (20.9)\n",
            "Requirement already satisfied: requests in /usr/local/lib/python3.7/dist-packages (from transformers~=3.4.0) (2.23.0)\n",
            "Collecting tokenizers==0.9.2\n",
            "\u001b[?25l  Downloading https://files.pythonhosted.org/packages/35/e7/edf655ae34925aeaefb7b7fcc3dd0887d2a1203ee6b0df4d1170d1a19d4f/tokenizers-0.9.2-cp37-cp37m-manylinux1_x86_64.whl (2.9MB)\n",
            "\u001b[K     |████████████████████████████████| 2.9MB 39.0MB/s \n",
            "\u001b[?25hRequirement already satisfied: numpy in /usr/local/lib/python3.7/dist-packages (from transformers~=3.4.0) (1.19.5)\n",
            "Requirement already satisfied: regex!=2019.12.17 in /usr/local/lib/python3.7/dist-packages (from transformers~=3.4.0) (2019.12.20)\n",
            "Requirement already satisfied: tqdm>=4.27 in /usr/local/lib/python3.7/dist-packages (from transformers~=3.4.0) (4.41.1)\n",
            "Collecting sacremoses\n",
            "\u001b[?25l  Downloading https://files.pythonhosted.org/packages/7d/34/09d19aff26edcc8eb2a01bed8e98f13a1537005d31e95233fd48216eed10/sacremoses-0.0.43.tar.gz (883kB)\n",
            "\u001b[K     |████████████████████████████████| 890kB 36.5MB/s \n",
            "\u001b[?25hRequirement already satisfied: filelock in /usr/local/lib/python3.7/dist-packages (from transformers~=3.4.0) (3.0.12)\n",
            "Requirement already satisfied: protobuf in /usr/local/lib/python3.7/dist-packages (from transformers~=3.4.0) (3.12.4)\n",
            "Requirement already satisfied: pyparsing>=2.0.2 in /usr/local/lib/python3.7/dist-packages (from packaging->transformers~=3.4.0) (2.4.7)\n",
            "Requirement already satisfied: idna<3,>=2.5 in /usr/local/lib/python3.7/dist-packages (from requests->transformers~=3.4.0) (2.10)\n",
            "Requirement already satisfied: chardet<4,>=3.0.2 in /usr/local/lib/python3.7/dist-packages (from requests->transformers~=3.4.0) (3.0.4)\n",
            "Requirement already satisfied: certifi>=2017.4.17 in /usr/local/lib/python3.7/dist-packages (from requests->transformers~=3.4.0) (2020.12.5)\n",
            "Requirement already satisfied: urllib3!=1.25.0,!=1.25.1,<1.26,>=1.21.1 in /usr/local/lib/python3.7/dist-packages (from requests->transformers~=3.4.0) (1.24.3)\n",
            "Requirement already satisfied: six in /usr/local/lib/python3.7/dist-packages (from sacremoses->transformers~=3.4.0) (1.15.0)\n",
            "Requirement already satisfied: click in /usr/local/lib/python3.7/dist-packages (from sacremoses->transformers~=3.4.0) (7.1.2)\n",
            "Requirement already satisfied: joblib in /usr/local/lib/python3.7/dist-packages (from sacremoses->transformers~=3.4.0) (1.0.1)\n",
            "Requirement already satisfied: setuptools in /usr/local/lib/python3.7/dist-packages (from protobuf->transformers~=3.4.0) (54.0.0)\n",
            "Building wheels for collected packages: sacremoses\n",
            "  Building wheel for sacremoses (setup.py) ... \u001b[?25l\u001b[?25hdone\n",
            "  Created wheel for sacremoses: filename=sacremoses-0.0.43-cp37-none-any.whl size=893262 sha256=dc868bff4aa69038c466d34275840b7982eb22d5e0b8bd6895a402e7ec8b92f5\n",
            "  Stored in directory: /root/.cache/pip/wheels/29/3c/fd/7ce5c3f0666dab31a50123635e6fb5e19ceb42ce38d4e58f45\n",
            "Successfully built sacremoses\n",
            "Installing collected packages: sentencepiece, tokenizers, sacremoses, transformers\n",
            "Successfully installed sacremoses-0.0.43 sentencepiece-0.1.95 tokenizers-0.9.2 transformers-3.4.0\n",
            "Collecting boilerpy3\n",
            "  Downloading https://files.pythonhosted.org/packages/f8/c1/aa6b2ab42a3678892de45fac2b1f4bbc326af1559214bfc563b5e0ef78b2/boilerpy3-1.0.4-py3-none-any.whl\n",
            "Installing collected packages: boilerpy3\n",
            "Successfully installed boilerpy3-1.0.4\n"
          ],
          "name": "stdout"
        }
      ]
    },
    {
      "cell_type": "code",
      "metadata": {
        "id": "hEAt-VGTjsOg"
      },
      "source": [
        "\"\"\"## Imports\"\"\"\n",
        "import pandas as pd\n",
        "import numpy as np\n",
        "import re\n",
        "import matplotlib.pyplot as plt\n",
        "\n",
        "import sklearn\n",
        "from sklearn.preprocessing import LabelEncoder\n",
        "from sklearn.model_selection import train_test_split\n",
        "from sklearn.metrics import confusion_matrix, precision_recall_fscore_support as score\n",
        "\n",
        "import torch\n",
        "import torch.nn as nn\n",
        "from torch.utils.data import TensorDataset, DataLoader, RandomSampler, SequentialSampler,Dataset,random_split,SubsetRandomSampler\n",
        "\n",
        "import transformers\n",
        "from transformers import  BertTokenizer, RobertaModel, BertModel, AdamW, AutoConfig,get_linear_schedule_with_warmup\n",
        "\n",
        "import time \n",
        "from datetime import  date\n",
        "import warnings\n",
        "import collections \n",
        "from operator import truediv\n",
        "from boilerpy3 import extractors\n",
        "from urllib.parse import quote,unquote,urlparse\n",
        "from urllib.request import urlopen\n",
        "import requests\n",
        "from bs4 import BeautifulSoup\n",
        "\n",
        "warnings.filterwarnings('ignore')\n"
      ],
      "execution_count": null,
      "outputs": []
    },
    {
      "cell_type": "code",
      "metadata": {
        "id": "sxIKHzFYyA_n",
        "colab": {
          "base_uri": "https://localhost:8080/"
        },
        "outputId": "c6711e7d-fbae-4c25-b319-54eab8340ce2"
      },
      "source": [
        "print(f'sklearn version : {sklearn.__version__}')\n",
        "print(f'torch version : {torch.__version__}')\n",
        "print(f'transformer version : {transformers.__version__}')\n",
        "print(f'pandas version : {pd.__version__}')\n",
        "print(f'numpy version : {np.__version__}')"
      ],
      "execution_count": null,
      "outputs": [
        {
          "output_type": "stream",
          "text": [
            "sklearn version : 0.22.2.post1\n",
            "torch version : 1.8.0+cu101\n",
            "transformer version : 3.4.0\n",
            "pandas version : 1.1.5\n",
            "numpy version : 1.19.5\n"
          ],
          "name": "stdout"
        }
      ]
    },
    {
      "cell_type": "code",
      "metadata": {
        "id": "98xdC7mA8P9x",
        "colab": {
          "base_uri": "https://localhost:8080/",
          "height": 71
        },
        "outputId": "5204a1eb-f96d-4b5d-d0cf-b51fde96dd1c"
      },
      "source": [
        "'''\n",
        "def stratify_train_test(df, stratifyby, *args, **kwargs):\n",
        "    train, test = pd.DataFrame(), pd.DataFrame()\n",
        "    gb = df.groupby(stratifyby)\n",
        "    for k in gb.groups:\n",
        "        traink, testk = train_test_split(gb.get_group(k), *args, **kwargs)\n",
        "        train = pd.concat([train, traink])\n",
        "        test = pd.concat([test, testk])\n",
        "    return train, test\n",
        "\n",
        "train, test = stratify_train_test(df1, 'label', test_size=.20)\n",
        "'''"
      ],
      "execution_count": null,
      "outputs": [
        {
          "output_type": "execute_result",
          "data": {
            "application/vnd.google.colaboratory.intrinsic+json": {
              "type": "string"
            },
            "text/plain": [
              "\"\\ndef stratify_train_test(df, stratifyby, *args, **kwargs):\\n    train, test = pd.DataFrame(), pd.DataFrame()\\n    gb = df.groupby(stratifyby)\\n    for k in gb.groups:\\n        traink, testk = train_test_split(gb.get_group(k), *args, **kwargs)\\n        train = pd.concat([train, traink])\\n        test = pd.concat([test, testk])\\n    return train, test\\n\\ntrain, test = stratify_train_test(df1, 'label', test_size=.20)\\n\""
            ]
          },
          "metadata": {
            "tags": []
          },
          "execution_count": 6
        }
      ]
    },
    {
      "cell_type": "markdown",
      "metadata": {
        "id": "QerT-IrMWHrX"
      },
      "source": [
        "sklearn version : 0.22.2.post1\n",
        "torch version : 1.7.0+cu101\n",
        "transformer version : 3.4.0\n",
        "pandas version : 1.1.4\n",
        "numpy version : 1.18.5"
      ]
    },
    {
      "cell_type": "markdown",
      "metadata": {
        "id": "p3FjTxP5lNc3"
      },
      "source": [
        "## Classes"
      ]
    },
    {
      "cell_type": "code",
      "metadata": {
        "colab": {
          "base_uri": "https://localhost:8080/"
        },
        "id": "KTOj98WoioAt",
        "outputId": "1fb8626b-8881-47a6-ba94-5ecb802666d4"
      },
      "source": [
        "# Base bert class for training and classification of the model\n",
        "class Bert_TextClassification_Model(nn.Module):\n",
        "    def __init__(self):\n",
        "        super(Bert_TextClassification_Model, self).__init__()\n",
        "        self.num_classes = NUM_CLASSES\n",
        "        self.bert_path = 'bert-base-uncased'\n",
        "        # Adding Gradient checkpoint for reducing memory usage\n",
        "        #it is saving 50% of memory in my case before the Model was going out of memory even with 11Gb now\n",
        "        #now after deleting unused variable, checkpointing and smaller variables consuption is reduced to 4Gb\n",
        "        self.config = AutoConfig.from_pretrained(self.bert_path,\n",
        "                                                 gradient_checkpointing=True,\n",
        "                                                 attention_probs_dropout_prob=0.5,\n",
        "                                                 hidden_dropout_prob=0.5\n",
        "                                                  )\n",
        "        #for memory conservation by using smaller value\n",
        "        self.config.use_bfloat16 = True\n",
        "        self.bert = transformers.BertModel.from_pretrained(self.bert_path, config=self.config)\n",
        "        #added a new dropout \n",
        "        self.dropout = nn.Dropout(0.5)\n",
        "        self.out = nn.Linear(768, self.num_classes)\n",
        "\n",
        "    def forward(self, ids, mask, token_type_ids):\n",
        "        _, pooled_out = self.bert(\n",
        "            ids, attention_mask=mask, token_type_ids=token_type_ids)\n",
        "        #added a new dropout \n",
        "        pooled_out = self.dropout(pooled_out)\n",
        "        return self.out(pooled_out)\n",
        "\n",
        "# This implements Bert take out the fined tuned model excluding last and add LSTM and linear layer on top of it to achieve higher accuracy\n",
        "class RoBERT_Model(nn.Module):\n",
        "\n",
        "    def __init__(self, bertFineTuned):\n",
        "        super(RoBERT_Model, self).__init__()\n",
        "        self.num_classes = NUM_CLASSES\n",
        "        # old model is initialized which is trained and remembers the weights and bais.\n",
        "        # since bert model only take 512 we will input the data with the same order\n",
        "        # but before we feed to the lstm layer,we will combine the output of bert which was previously\n",
        "        # divided into 200, seg and then in last filter out in linear\n",
        "        self.bertFineTuned = bertFineTuned\n",
        "        self.lstm = nn.LSTM(768, 100, num_layers=1, bidirectional=False)\n",
        "        #added a new dropout \n",
        "        self.dropout = nn.Dropout(0.3)\n",
        "        self.out = nn.Linear(100, self.num_classes)\n",
        "\n",
        "    def forward(self, ids, mask, token_type_ids, num_chunks):\n",
        "        _, pooled_out = self.bertFineTuned(ids,\n",
        "                                           attention_mask=mask,\n",
        "                                           token_type_ids=token_type_ids)\n",
        "\n",
        "        #For every 200-lenght chunk we extracted a representation vector from BERT of size 768 each\n",
        "        #which is the size of the hidden layer\n",
        "        chunks_emb = pooled_out.split_with_sizes(num_chunks)\n",
        "        #print(f'Number of chunks : {num_chunks}')\n",
        "\n",
        "        seq_num_chunkshs = torch.LongTensor([x for x in map(len, chunks_emb)])\n",
        "        #seq_len = tensor(5) for 5 chunks in a document\n",
        "        del pooled_out\n",
        "        #  number of 200-num_chunksh chunk is not fixed\n",
        "        #Pad a list of variable num_chunksh Tensors with padding_value\n",
        "        #sequences (list[Tensor]) – list of variable num_chunksh sequences.\n",
        "        #batch_first (bool, optional) – output will be in B x T x * if True, or in T x B x * otherwise\n",
        "        #padding_value (float, optional) – value for padded elements. Default: 0.\n",
        "        #* is any number of trailing dimensions\n",
        "        '''\n",
        "        , batch size more than one,padding to the max num_chunksh and masking, \n",
        "        in this way we pad the shorter sequences with a special value to be masked (skipped for the network) later.\n",
        "        In this case the special values is -99\n",
        "        '''\n",
        "        # batch_emb_pad = [1,5,768]\n",
        "        batch_emb_pad = nn.utils.rnn.pad_sequence(chunks_emb,\n",
        "                                                  padding_value=-99,\n",
        "                                                  batch_first=True)\n",
        "        # batch_emb = [5,1,768]\n",
        "        batch_emb = batch_emb_pad.transpose(0, 1)  # (B,L,D) -> (L,B,D)\n",
        "\n",
        "        #Packs a Tensor containing padded sequences  from above of variable num_chunksh.\n",
        "        # because each document can be of different len\n",
        "        lstm_input = nn.utils.rnn.pack_padded_sequence(batch_emb, seq_num_chunkshs.cpu().numpy(),\n",
        "                                                       batch_first=False, enforce_sorted=False)\n",
        "        # lstm_input Bactch size is [1,1,1,1,1] meaning 5\n",
        "        #this will reduce it to 100 layers  as initiatized\n",
        "        #packed_output = 100*5() 5 is batch\n",
        "        #h_t = 100 is a  output vector of output shape [1,1,100]\n",
        "        packed_output, (h_t, h_c) = self.lstm(lstm_input, )  # (h_t, h_c))\n",
        "\n",
        "        h_t = h_t.view(-1, 100)\n",
        "        #added dropout\n",
        "        h_t = self.dropout(h_t)\n",
        "\n",
        "\n",
        "        return self.out(h_t)\n",
        "\n",
        "# Train and Evaluate - Bert Model\n",
        "def train_eval_bert_model(data_loader, model, optimizer, device, mode, scheduler=None):\n",
        "    target_res = []\n",
        "    output_res = []\n",
        "    if mode=='train':\n",
        "        model.train()\n",
        "        t0 = time.time()\n",
        "    elif mode=='eval':\n",
        "        model.eval()\n",
        "\n",
        "    else:\n",
        "        print('wrong mode given')\n",
        "\n",
        "    losses = []\n",
        "    for batch_idx, batch in enumerate(data_loader):\n",
        "\n",
        "        # taking out the data from dataloader\n",
        "        ids = [data[\"ids\"] for data in batch]\n",
        "        # This will give list of tensor ids,masks....\n",
        "        mask = [data[\"mask\"] for data in batch]\n",
        "        token_type_ids = [data[\"token_type_ids\"] for data in batch]\n",
        "        targets = [data[\"targets\"] for data in batch]\n",
        "        # [tensor([1, 1, 1], dtype=torch.int32)]<class 'list'>\n",
        "        num_chunks = [data['len'] for data in batch]\n",
        "        #\toutput is [tensor([3])]<class 'list'>\n",
        "\n",
        "        # Converting list into tensors\n",
        "        ids = torch.cat(ids)\n",
        "        mask = torch.cat(mask)\n",
        "        token_type_ids = torch.cat(token_type_ids)\n",
        "        targets = torch.cat(targets)\n",
        "        # tensor([1, 1, 1], dtype=torch.int32)<class 'torch.Tensor'>\n",
        "        num_chunks = torch.cat(num_chunks)\n",
        "        # output is tensor([3])<class 'torch.Tensor'>\n",
        "\n",
        "        # Loading variables to Memory\n",
        "        ids = ids.to(device, dtype=torch.long)\n",
        "        mask = mask.to(device, dtype=torch.long)\n",
        "        token_type_ids = token_type_ids.to(device, dtype=torch.long)\n",
        "        targets = targets.to(device, dtype=torch.long)\n",
        "\n",
        "        if mode=='train':\n",
        "            # changing all the previous gradients to zero if any\n",
        "            optimizer.zero_grad()\n",
        "            outputs = model(ids=ids, mask=mask, token_type_ids=token_type_ids)\n",
        "\n",
        "            # Deleting unused variables which consume quite a bit of memory\n",
        "            del ids, mask, token_type_ids, num_chunks\n",
        "\n",
        "            loss = loss_fun(outputs, targets)\n",
        "            loss.backward()\n",
        "            model.float()\n",
        "            optimizer.step()\n",
        "            if scheduler:\n",
        "                scheduler.step()\n",
        "            losses.append(loss.item())\n",
        "            del loss\n",
        "            if batch_idx % 1000 == 0:\n",
        "                print(\n",
        "                    f\"batch index = {batch_idx} / {len(data_loader)} ({100 * batch_idx / len(data_loader):.2f}%), loss = {np.mean(losses[-10:]):.4f}, time = {(time.time()-t0)//60} minutes \")\n",
        "                t0 = time.time()\n",
        "            output = losses\n",
        "\n",
        "        elif mode =='eval':\n",
        "            with torch.no_grad():\n",
        "                outputs = model(ids=ids, mask=mask, token_type_ids=token_type_ids)\n",
        "                del ids, mask, token_type_ids, num_chunks\n",
        "                loss = loss_fun(outputs, targets)\n",
        "                losses.append(loss.item())\n",
        "                del loss\n",
        "\n",
        "            \n",
        "            target_res.append(targets.cpu().detach().numpy())\n",
        "            output_res.append(torch.softmax(outputs, dim=1).cpu().detach().numpy())\n",
        "            output = np.concatenate(output_res), np.concatenate(target_res), losses\n",
        "\n",
        "    return  output\n",
        "\n",
        "# Train and Evaluate - RoBert Model\n",
        "def train_eval_robert_model(data_loader, model, optimizer, device, mode, scheduler=None):\n",
        "    target_res = []\n",
        "    output_res = []\n",
        "    if mode == 'train':\n",
        "        model.train()\n",
        "        t0 = time.time()\n",
        "    elif mode == 'eval':\n",
        "        model.eval()\n",
        "    else:\n",
        "        print('wrong mode given')\n",
        "\n",
        "    losses = []\n",
        "    for batch_idx, batch in enumerate(data_loader):\n",
        "\n",
        "        # taking out the data from dataloader\n",
        "        ids = [data[\"ids\"] for data in batch]\n",
        "        mask = [data[\"mask\"] for data in batch]\n",
        "        token_type_ids = [data[\"token_type_ids\"] for data in batch]\n",
        "        targets = [data[\"targets\"][0] for data in batch]\n",
        "        num_chunks = [data['len'] for data in batch]\n",
        "        # input is <class 'list'>\n",
        "        # targets and its type : [tensor(0, dtype=torch.int32)]<class 'list'>\n",
        "        # num_chunks and its type : [tensor([5])]<class 'list'>\n",
        "        ids = torch.cat(ids)\n",
        "        mask = torch.cat(mask)\n",
        "        token_type_ids = torch.cat(token_type_ids)\n",
        "        targets = torch.stack(targets)\n",
        "        num_chunks = torch.cat(num_chunks)\n",
        "        num_chunks = [x.item() for x in num_chunks]\n",
        "        # stacked targets and its type : tensor([0], dtype=torch.int32)<class 'torch.Tensor'>\n",
        "        # concatenated num_chunks and its type : tensor([5])<class 'torch.Tensor'>\n",
        "        # ietms num_chunks and its type : [5]<class 'list'>\n",
        "        ids = ids.to(device, dtype=torch.long)\n",
        "        mask = mask.to(device, dtype=torch.long)\n",
        "        token_type_ids = token_type_ids.to(device, dtype=torch.long)\n",
        "        targets = targets.to(device, dtype=torch.long)\n",
        "\n",
        "        if mode == 'train':\n",
        "            # changing all the previous gradients to zero if any\n",
        "            optimizer.zero_grad()\n",
        "            outputs = model(ids=ids, mask=mask,\n",
        "                            token_type_ids=token_type_ids, num_chunks=num_chunks)\n",
        "            del ids, mask, token_type_ids, num_chunks\n",
        "            loss = loss_fun(outputs, targets)\n",
        "            loss.backward()\n",
        "            model.float()\n",
        "            optimizer.step()\n",
        "            if scheduler:\n",
        "                scheduler.step()\n",
        "            losses.append(loss.item())\n",
        "            del loss\n",
        "            if batch_idx % 1000 == 0:\n",
        "              print(\n",
        "                f\"batch index = {batch_idx} / {len(data_loader)} ({100*batch_idx / len(data_loader):.2f}%), loss = {np.mean(losses[-10:]):.4f}, time = {(time.time()-t0)//60} minutes\")\n",
        "              t0 = time.time()\n",
        "            target_res.append(targets.cpu().detach().numpy())\n",
        "            output_res.append(torch.softmax(\n",
        "                outputs, dim=1).cpu().detach().numpy())\n",
        "            output = np.concatenate(output_res), np.concatenate(target_res), losses\n",
        "\n",
        "        elif mode == 'eval':\n",
        "            with torch.no_grad():\n",
        "                outputs = model(ids=ids, mask=mask,\n",
        "                                token_type_ids=token_type_ids, num_chunks=num_chunks)\n",
        "                loss = loss_fun(outputs, targets)\n",
        "                losses.append(loss.item())\n",
        "            target_res.append(targets.cpu().detach().numpy())\n",
        "            output_res.append(torch.softmax(\n",
        "                outputs, dim=1).cpu().detach().numpy())\n",
        "            output = np.concatenate(output_res), np.concatenate(target_res), losses\n",
        "\n",
        "    return output\n",
        "\n",
        "# To create a dataloader with variable-size input\n",
        "def my_collate1(batches):\n",
        "    return [{key: torch.stack(value) for key, value in batch.items()} for batch in batches]\n",
        "\n",
        "# Loss function\n",
        "def loss_fun(outputs, targets):\n",
        "    loss = nn.CrossEntropyLoss()\n",
        "    return loss(outputs, targets)\n",
        "    # return nn.BCEWithLogitsLoss()(outputs, targets)\n",
        "\n",
        "# For predictions and accuracy\n",
        "def evaluate(target, predicted):\n",
        "    true_label_mask = [1 if (np.argmax(x) - target[i]) ==\n",
        "                            0 else 0 for i, x in enumerate(predicted)]\n",
        "    nb_prediction = len(true_label_mask)\n",
        "    true_prediction = sum(true_label_mask)\n",
        "    false_prediction = nb_prediction - true_prediction\n",
        "    Accuracy = true_prediction / nb_prediction\n",
        "    return {\n",
        "        \"Accuracy\": Accuracy,\n",
        "        \"No. of examples\": len(target),\n",
        "        \"True prediction\": true_prediction,\n",
        "        \"False prediction\": false_prediction,\n",
        "    }\n",
        "#----------------------------------------------\n",
        "# can join evaluate and f1 score and remove accuracy \n",
        "\n",
        "# Precision () is defined as the number of true positives () over \n",
        "# the number of true positives plus the number of false positives \n",
        "def get_f1_precision_recall(y_test,y_pred):\n",
        "    \n",
        "  float_formatter = \"{:.2f}\".format\n",
        "  np.set_printoptions(formatter={'float_kind':float_formatter})\n",
        "\n",
        "  precision, recall, fscore, support = score(y_test, y_pred)\n",
        "  print('precision: {}'.format(precision))\n",
        "  print('recall   : {}'.format(recall))\n",
        "  print('fscore   : {}'.format(fscore))\n",
        "  return\n",
        "\n",
        "# For plotting confusion matrix\n",
        "def plot_confusion_matrix(cm, classes,\n",
        "                          normalize=False,\n",
        "                          title='Confusion matrix',\n",
        "                          cmap=plt.cm.Blues):\n",
        "    \"\"\"\n",
        "    This function prints and plots the confusion matrix.\n",
        "    Normalization can be applied by setting `normalize=True`.\n",
        "    \"\"\"\n",
        "    import itertools\n",
        "    if normalize:\n",
        "        cm = cm.astype('float') / cm.sum(axis=1)[:, np.newaxis]\n",
        "        print(\"Normalized confusion matrix\")\n",
        "    else:\n",
        "        print('Confusion matrix, without normalization')\n",
        "\n",
        "    plt.imshow(cm, interpolation='nearest', cmap=cmap)\n",
        "    plt.title(title)\n",
        "    plt.colorbar()\n",
        "    tick_marks = np.arange(len(classes))\n",
        "    plt.xticks(tick_marks, classes, rotation=45)\n",
        "    plt.yticks(tick_marks, classes)\n",
        "\n",
        "    fmt = '.2f' if normalize else 'd'\n",
        "    thresh = cm.max() / 2.\n",
        "    for i, j in itertools.product(range(cm.shape[0]), range(cm.shape[1])):\n",
        "        plt.text(j, i, format(cm[i, j], fmt),\n",
        "                 horizontalalignment=\"center\",\n",
        "                 color=\"white\" if cm[i, j] > thresh else \"black\")\n",
        "\n",
        "    plt.ylabel('True label')\n",
        "    plt.xlabel('Predicted label')\n",
        "    plt.tight_layout()\n",
        "\n",
        "# To create, clean and divide the dataset into chunks\n",
        "class FakeNewsDataset(Dataset):\n",
        "\n",
        "    def __init__(self, tokenizer, max_len, chunk_len=200, overlap_len=50, max_size_dataset=None,\n",
        "                  file_location=None, min_len=10, mode='train_eval', testdf=None):\n",
        "        self.tokenizer = tokenizer\n",
        "        self.max_len = max_len\n",
        "        self.overlap_len = overlap_len\n",
        "        self.chunk_len = chunk_len\n",
        "        self.min_len = min_len\n",
        "        self.max_size_dataset = max_size_dataset\n",
        "        self.testdf = testdf\n",
        "        self.mode = mode\n",
        "        self.data, self.label,self.label_count,self.label_mapping= self.process_data(file_location,mode,testdf )\n",
        "\n",
        "    def process_data(self,file_location,mode,testdf):\n",
        "        \n",
        "        base_l = []\n",
        "        # dataset for training and evaluation\n",
        "        if mode == 'train_eval':\n",
        "          df = pd.read_csv(file_location)\n",
        "          train_raw = df[df.body.notnull()]\n",
        "          train_raw = train_raw[train_raw.title.notnull()]\n",
        "        # dataset for predicting the single outcome\n",
        "        elif mode == 'test':\n",
        "          train_raw = testdf.copy()\n",
        "\n",
        "        \n",
        "        base_l = get_base_url (train_raw.url)\n",
        "        train_raw['base_url'] = base_l\n",
        "        train_raw = train_raw.assign(len_txt=train_raw.body.apply(lambda x: len(x.split())))\n",
        "        train_raw = train_raw[train_raw.len_txt > self.min_len]\n",
        "\n",
        "        train_raw = train_raw[['title','body', 'label','base_url']]\n",
        "        train_raw.reset_index(inplace=True, drop=True)        \n",
        "        train = train_raw.copy()\n",
        "        del train_raw\n",
        "        if (self.max_size_dataset):\n",
        "            train = train.loc[0:self.max_size_dataset, :]\n",
        "        train = train.reindex(np.random.permutation(train.index))\n",
        "      \n",
        "        train['body'] = train.body.apply(self.clean_txt)\n",
        "        train['title'] = train.title.apply(self.clean_txt)\n",
        "        train['text'] = train[['title','body']].agg(' '.join, axis=1)\n",
        "\n",
        "        label_count = train['label'].value_counts()\n",
        "        LE = LabelEncoder()\n",
        "        train['label'] = LE.fit_transform(train['label'])\n",
        "        label_mapping = dict(zip(LE.classes_, range(len(LE.classes_))))\n",
        "\n",
        "        return train['text'].values, train['label'].values,label_count,label_mapping\n",
        "\n",
        "    def clean_txt(self, text):\n",
        "        # Apply regex and clean the data\n",
        "        text = re.sub(\"'\", \"\", text)\n",
        "        text = re.sub(\"the\", \"\", text)\n",
        "        text = re.sub(\"The\", \"\", text)\n",
        "        text = re.sub(\"(\\\\W)+\", \" \", text)\n",
        "        text = re.sub(r'[^A-Z-a-z. \\d/,]', '', text.lower())\n",
        "        text = ' '.join(text.split())\n",
        "        return text\n",
        "\n",
        "    def long_terms_tokenizer(self, data_tokenize, targets):\n",
        "        \n",
        "        input_ids_list = []\n",
        "        attention_mask_list = []\n",
        "        token_type_ids_list = []\n",
        "        targets_list = []\n",
        "\n",
        "        previous_input_ids = data_tokenize[\"input_ids\"].reshape(-1)\n",
        "        previous_attention_mask = data_tokenize[\"attention_mask\"].reshape(-1)\n",
        "        previous_token_type_ids = data_tokenize[\"token_type_ids\"].reshape(-1)\n",
        "\n",
        "        # it contains tokens that are after 200 num_chunksh because of CHUNK_LEN=200\n",
        "        overflowing_ids = data_tokenize.get(\"overflowing_tokens\").reshape(-1)  # added .reshape(-1)\n",
        "        targets = torch.tensor(targets, dtype=torch.int)\n",
        "\n",
        "        input_ids_list.append(previous_input_ids)\n",
        "        attention_mask_list.append(previous_attention_mask)\n",
        "        token_type_ids_list.append(previous_token_type_ids)\n",
        "        targets_list.append(targets)\n",
        "\n",
        "        if overflowing_ids.nelement() != 0 :\n",
        "            overflowing_ids = torch.tensor(overflowing_ids, dtype=torch.long)\n",
        "            # total no. of index, chunck + overflow\n",
        "            # range means how many steps of 200 chunks eg if len is 723, then range is 4\n",
        "            idxs = range(len(overflowing_ids) + self.chunk_len)\n",
        "            # from where the next chunk starts\n",
        "            # idxs = start, step, stop, 148,148,396\n",
        "            idxs = idxs[(self.chunk_len - self.overlap_len - 2)\n",
        "                        ::(self.chunk_len - self.overlap_len - 2)]\n",
        "            # input_ids_first_overlap last 50 tokens of the first 200 batch\n",
        "            input_ids_first_overlap = previous_input_ids[-(\n",
        "                    self.overlap_len + 1):-1]\n",
        "            start_token = torch.tensor([101], dtype=torch.long)\n",
        "            end_token = torch.tensor([102], dtype=torch.long)\n",
        "\n",
        "            for i, idx in enumerate(idxs):\n",
        "                # enumerate i = counter, 1,2 3--\n",
        "                if i == 0:\n",
        "                    # input_ids = 50 from last of the first batch + 148 from overflowing_ids + 2 tokens\n",
        "                    input_ids = torch.cat(\n",
        "                        (input_ids_first_overlap, overflowing_ids[:idx]))\n",
        "                elif i == len(idxs):\n",
        "                    # for the last overflowing_idsing indexes\n",
        "                    input_ids = overflowing_ids[idx:]\n",
        "                elif previous_idx >= len(overflowing_ids):\n",
        "                    # when the indexes finishes it breaks\n",
        "                    break\n",
        "                else:\n",
        "                    # if not the first and the last, in between then last index-50, to overlap till next 150\n",
        "                    input_ids = overflowing_ids[(previous_idx - self.overlap_len):idx]\n",
        "\n",
        "                previous_idx = idx\n",
        "\n",
        "                # after getting input ids add equivalant amount of attention mask and then token ids\n",
        "                nb_token = len(input_ids) + 2\n",
        "                attention_mask = torch.ones(self.chunk_len, dtype=torch.long)  # chunk len = 200\n",
        "                attention_mask[nb_token:self.chunk_len] = 0\n",
        "                token_type_ids = torch.zeros(self.chunk_len, dtype=torch.long)\n",
        "                input_ids = torch.cat((start_token, input_ids, end_token))\n",
        "                # if its input id is less then 200, then add padding till 200\n",
        "                if self.chunk_len - nb_token > 0:\n",
        "                    padding = torch.zeros(\n",
        "                        self.chunk_len - nb_token, dtype=torch.long)\n",
        "                    input_ids = torch.cat((input_ids, padding))\n",
        "\n",
        "                input_ids_list.append(input_ids)\n",
        "                attention_mask_list.append(attention_mask)\n",
        "                token_type_ids_list.append(token_type_ids)\n",
        "                targets_list.append(targets)\n",
        "        return ({\n",
        "            'ids': input_ids_list,  # torch.tensor(ids, dtype=torch.long),\n",
        "            # torch.tensor(mask, dtype=torch.long),\n",
        "            'mask': attention_mask_list,\n",
        "            # torch.tensor(token_type_ids, dtype=torch.long),\n",
        "            'token_type_ids': token_type_ids_list,\n",
        "            'targets': targets_list,\n",
        "            'len': [torch.tensor(len(targets_list), dtype=torch.long)]\n",
        "        })\n",
        "\n",
        "    def __getitem__(self, idx):\n",
        "\n",
        "        body = str(self.data[idx])\n",
        "        targets = int(self.label[idx])\n",
        "        data = self.tokenizer.encode_plus(\n",
        "            body,\n",
        "            truncation=True,\n",
        "            max_length=self.chunk_len,\n",
        "            padding='longest',\n",
        "            add_special_tokens=True,\n",
        "            return_attention_mask=True,\n",
        "            return_token_type_ids=True,\n",
        "            return_overflowing_tokens=True,\n",
        "            return_tensors='pt')\n",
        "        # calling third function\n",
        "        long_token = self.long_terms_tokenizer(data, targets)\n",
        "        return long_token\n",
        "\n",
        "    def __len__(self):\n",
        "        \"\"\" Return data length \"\"\"\n",
        "        return self.label.shape[0]\n",
        "\n",
        "# For extracting base url from complete url\n",
        "def get_base_url (long_url):  \n",
        "  ls = []\n",
        "  for item in long_url:\n",
        "      u=unquote(item)\n",
        "      g=urlparse(u)\n",
        "      base_url=g.netloc\n",
        "      ls.append(base_url)\n",
        "  return ls\n",
        "\n",
        "# For extracting article from the URL \n",
        "def get_text_from_url(url):\n",
        "  try:\n",
        "    extractor = extractors.ArticleExtractor()\n",
        "    headers = {\n",
        "        'User-Agent': 'Mozilla/5.0 (Windows NT 10.0; Win64; x64) AppleWebKit/537.36 (KHTML, like Gecko) Chrome/87.0.4280.88 Safari/537.36'\n",
        "    }\n",
        "    resp = requests.get(url, headers=headers)\n",
        "    if resp.ok:\n",
        "        doc = extractor.get_content(resp.text)\n",
        "    else:\n",
        "        doc = get_body_from_soup(url)\n",
        "    testarticle = pd.DataFrame(columns=['title','body','label','url']) #header=None\n",
        "    title = 'news'\n",
        "    body = doc\n",
        "    label = 'fake'\n",
        "    url = url\n",
        "    testarticle = testarticle.append({'title': title, 'body': body, 'label': label,'url':url}, ignore_index=True)\n",
        "  except:\n",
        "    print(\"Please use different URL\")\n",
        "  return testarticle\n",
        "\n",
        "#if the above function fails, then use beautiful soup, just a check safe(its not used tho)\n",
        "def get_body_from_soup(url):\n",
        "  res = requests.get(url)\n",
        "  html_page = res.content\n",
        "  soup = BeautifulSoup(html_page, 'html.parser')\n",
        "  text = soup.find_all(text=True)\n",
        "  set([t.parent.name for t in text])\n",
        "  output = ''\n",
        "  want = ['body','title','p','div','article','h1','h2','h3','h4']\n",
        "  for t in text:\n",
        "      if t.parent.name in want:\n",
        "          output += '{} '.format(t)\n",
        "  return output\n",
        "\n",
        "def predict_article(url,model,model_roberta):\n",
        "    \n",
        "\n",
        "  url = url\n",
        "  testarticle = get_text_from_url(url)\n",
        "  # Extracting Dataset\n",
        "  testdataset = FakeNewsDataset(\n",
        "                            tokenizer=bert_tokenizer,\n",
        "                            min_len=MIN_LEN,\n",
        "                            max_len=MAX_LEN,\n",
        "                            chunk_len=CHUNK_LEN,\n",
        "                            max_size_dataset=1,\n",
        "                            overlap_len=OVERLAP_LEN,\n",
        "                            mode='test',\n",
        "                            testdf=testarticle\n",
        "                            )\n",
        "\n",
        "  test_data_loader=DataLoader(testdataset,\n",
        "                                batch_size=1,\n",
        "                                sampler=None,\n",
        "                                collate_fn=my_collate1)\n",
        "  num_training_steps = int(len(testdataset) / TRAIN_BATCH_SIZE * EPOCH)\n",
        "  # Initializing/ loading Bert model trained before\n",
        "  model = model\n",
        "\n",
        "  #Loading all the layers of the bert model except the last one as explained in the class above.\n",
        "  model_roberta = model_robert\n",
        "  optimizer = AdamW(model_roberta.parameters(), lr=lr)\n",
        "  scheduler = get_linear_schedule_with_warmup(optimizer,\n",
        "                                              num_warmup_steps=0,\n",
        "                                              num_training_steps=num_training_steps)\n",
        "  val_losses = []\n",
        "  output, target, val_losses_tmp = train_eval_robert_model(test_data_loader, model_roberta, optimizer, device,'eval')\n",
        "  y_pred = np.argmax(output, axis=1).flatten()[0] #Estimated targets as returned by a classifier.\n",
        "  pred_label = dict(map(reversed, dataset.label_mapping.items()))\n",
        "  \n",
        "  return pred_label[y_pred]\n",
        "\n",
        "# Check if Graphic card is available\n",
        "if torch.cuda.is_available():\n",
        "    device = torch.device(\"cuda\")\n",
        "    print('There are %d GPU(s) available.' % torch.cuda.device_count())\n",
        "    print('We will use the GPU:', torch.cuda.get_device_name(0))\n",
        "else:\n",
        "    print('No GPU available, using the CPU instead.')\n",
        "    device = torch.device(\"cpu\")"
      ],
      "execution_count": null,
      "outputs": [
        {
          "output_type": "stream",
          "text": [
            "There are 1 GPU(s) available.\n",
            "We will use the GPU: Tesla P100-PCIE-16GB\n"
          ],
          "name": "stdout"
        }
      ]
    },
    {
      "cell_type": "markdown",
      "metadata": {
        "id": "RzNg8nTJsW16"
      },
      "source": [
        "## HyperParameters"
      ]
    },
    {
      "cell_type": "code",
      "metadata": {
        "id": "LFCuL2G4r_Qb",
        "colab": {
          "base_uri": "https://localhost:8080/",
          "referenced_widgets": [
            "73f92d1ba15d441ea8f04647d446a5a0",
            "53db8bb00f3f4443ac716e0ae59014a3",
            "9bfd3a38652c4cc385cb12486d85cf05",
            "d7a7ede64be947a599b396d61207b4da",
            "28584ece32fe4a7faba766f28dd8cb8a",
            "6fea9648045d4cc999f35b3c39adaaaa",
            "8741d755a4744fbe8e24dc86cecc89c7",
            "1cbf17f018aa4007a50619af622046e6"
          ]
        },
        "outputId": "00236e89-5e67-4e4d-8909-3883a1a9d54c"
      },
      "source": [
        "TRAIN_BATCH_SIZE = 1\n",
        "DATASET_SPLIT = None\n",
        "shuffle_dataset = True\n",
        "random_seed = 42\n",
        "# MIN_LEN=249\n",
        "MIN_LEN = 10\n",
        "MAX_LEN = 50\n",
        "CHUNK_LEN = 200\n",
        "OVERLAP_LEN = 50\n",
        "max_size_dataset =None\n",
        "#max_size_dataset = 200\n",
        "NUM_CLASSES = 4\n",
        "lr = 1e-5\n",
        "file_location1=\"/content/Gdrive/MyDrive/covid19_news_dataset_train.csv\"\n",
        "file_location2=\"/content/drive/MyDrive/covid19_news_dataset_test.csv\"\n",
        "# Defining tokenizer\n",
        "bert_tokenizer = BertTokenizer.from_pretrained('bert-base-uncased', do_lower_case=True)\n",
        "#file_location = file_location1"
      ],
      "execution_count": null,
      "outputs": [
        {
          "output_type": "display_data",
          "data": {
            "application/vnd.jupyter.widget-view+json": {
              "model_id": "73f92d1ba15d441ea8f04647d446a5a0",
              "version_minor": 0,
              "version_major": 2
            },
            "text/plain": [
              "HBox(children=(FloatProgress(value=0.0, description='Downloading', max=231508.0, style=ProgressStyle(descripti…"
            ]
          },
          "metadata": {
            "tags": []
          }
        },
        {
          "output_type": "stream",
          "text": [
            "\n"
          ],
          "name": "stdout"
        }
      ]
    },
    {
      "cell_type": "markdown",
      "metadata": {
        "id": "eOVPBbtzL_Oh"
      },
      "source": [
        "## Preparing Data For Training and validation"
      ]
    },
    {
      "cell_type": "code",
      "metadata": {
        "colab": {
          "base_uri": "https://localhost:8080/"
        },
        "id": "ViNAAmpDq0W_",
        "outputId": "a21fb60a-c192-4a2d-a089-0ea796e26e33"
      },
      "source": [
        "# Extracting Dataset for train_eval\n",
        "#file_location3=\"/content/Gdrive/MyDrive/covid19_news_dataset.csv\"\n",
        "dataset = FakeNewsDataset(file_location = file_location1,\n",
        "                          tokenizer=bert_tokenizer,\n",
        "                          min_len=MIN_LEN,\n",
        "                          max_len=MAX_LEN,\n",
        "                          chunk_len=CHUNK_LEN,\n",
        "                          max_size_dataset=max_size_dataset,\n",
        "                          overlap_len=OVERLAP_LEN,\n",
        "                          mode='train_eval',\n",
        "                          testdf=None\n",
        "                          )\n",
        "\n",
        "dataset_size = len(dataset)\n",
        "print('Total articles :' + str(dataset_size))\n"
      ],
      "execution_count": null,
      "outputs": [
        {
          "output_type": "stream",
          "text": [
            "Total articles :28557\n"
          ],
          "name": "stdout"
        }
      ]
    },
    {
      "cell_type": "code",
      "metadata": {
        "colab": {
          "base_uri": "https://localhost:8080/"
        },
        "id": "Ni-oy0SRDL6u",
        "outputId": "534a42c3-bf76-4f5d-a458-2b512fc7618b"
      },
      "source": [
        "from google.colab import drive\n",
        "drive.mount('/content/drive')"
      ],
      "execution_count": null,
      "outputs": [
        {
          "output_type": "stream",
          "text": [
            "Mounted at /content/drive\n"
          ],
          "name": "stdout"
        }
      ]
    },
    {
      "cell_type": "code",
      "metadata": {
        "colab": {
          "base_uri": "https://localhost:8080/"
        },
        "id": "7kef6Qn1Oqxe",
        "outputId": "d4eafa2b-ea07-43b5-d2ab-3bb03e96a63e"
      },
      "source": [
        "dataset.label_count\n"
      ],
      "execution_count": null,
      "outputs": [
        {
          "output_type": "execute_result",
          "data": {
            "text/plain": [
              "High probability true     13168\n",
              "High probability fake     12675\n",
              "fake                       1377\n",
              "true                       1337\n",
              "Name: label, dtype: int64"
            ]
          },
          "metadata": {
            "tags": []
          },
          "execution_count": 11
        }
      ]
    },
    {
      "cell_type": "code",
      "metadata": {
        "colab": {
          "base_uri": "https://localhost:8080/"
        },
        "id": "JpewVgvcZNYF",
        "outputId": "c85cd1a8-9932-4407-fdc9-630458094745"
      },
      "source": [
        "dataset.label_count.plot.bar()\n",
        "plt.title('Label Distribution')\n",
        "plt.show()\n",
        "#test.groupby(['label']).size()"
      ],
      "execution_count": null,
      "outputs": [
        {
          "output_type": "display_data",
          "data": {
            "image/png": "[encoded data removed]",
            "text/plain": [
              "<Figure size 432x288 with 1 Axes>"
            ]
          },
          "metadata": {
            "tags": [],
            "needs_background": "light"
          }
        }
      ]
    },
    {
      "cell_type": "code",
      "metadata": {
        "id": "EnQ0GwdOFBu2"
      },
      "source": [
        "# Because the labels are imbalanced, we split the data set in a stratified fashion, using this as the class labels.\n",
        "#Dividing into Train and Validating\n",
        "\n",
        "DATASET_SPLIT = .16\n",
        "train_idx, valid_idx = train_test_split(\n",
        "                                        np.arange(dataset_size),\n",
        "                                        test_size=DATASET_SPLIT,\n",
        "                                        shuffle=True,\n",
        "                                        stratify=dataset.label)\n",
        "\n",
        "# Creating data indices for training and validation splits:\n",
        "#Map-style datasets\n",
        "#A map-style dataset is one that implements the __getitem__() and __len__() protocols,\n",
        "# and represents a map from (possibly non-integral) indices/keys to data samples.\n",
        "\n",
        "# Creating PT data samplers and loaders:\n",
        "train_sampler = SubsetRandomSampler(train_idx)\n",
        "valid_sampler = SubsetRandomSampler(valid_idx)\n",
        "\n",
        "train_data_loader=DataLoader(\n",
        "                              dataset,\n",
        "                              batch_size=TRAIN_BATCH_SIZE,\n",
        "                              sampler=train_sampler,\n",
        "                              collate_fn=my_collate1)\n",
        "\n",
        "valid_data_loader=DataLoader(\n",
        "                              dataset,\n",
        "                              batch_size=TRAIN_BATCH_SIZE,\n",
        "                              sampler=valid_sampler,\n",
        "                              collate_fn=my_collate1)\n"
      ],
      "execution_count": null,
      "outputs": []
    },
    {
      "cell_type": "code",
      "metadata": {
        "colab": {
          "base_uri": "https://localhost:8080/"
        },
        "id": "TctirL5FbR6l",
        "outputId": "2334c3d5-36b1-4a6e-b77f-a3bb90c8d999"
      },
      "source": [
        "train_classes = [dataset.label[i] for i in train_sampler.indices]\n",
        "validation_classes = [dataset.label[i] for i in valid_sampler.indices]\n",
        "import collections\n",
        "print(f'Number of labels in Training set are :{collections.Counter(train_classes)}') \n",
        "print(f'Number of labels in Validation set are :{collections.Counter(validation_classes)}') "
      ],
      "execution_count": null,
      "outputs": [
        {
          "output_type": "stream",
          "text": [
            "Number of labels in Training set are :Counter({1: 11061, 0: 10646, 2: 1157, 3: 1123})\n",
            "Number of labels in Validation set are :Counter({1: 2107, 0: 2029, 2: 220, 3: 214})\n"
          ],
          "name": "stdout"
        }
      ]
    },
    {
      "cell_type": "markdown",
      "metadata": {
        "id": "OjlvxYmxMIxU"
      },
      "source": [
        "## Preparing data For Testing (Done seperately because of some changes in last phase)"
      ]
    },
    {
      "cell_type": "code",
      "metadata": {
        "colab": {
          "base_uri": "https://localhost:8080/"
        },
        "id": "IHtjew4UMIxV",
        "outputId": "9c618051-4272-414f-b943-5601ddd2dadd"
      },
      "source": [
        "# Extracting Dataset for train_eval\n",
        "#file_location = file_location2\n",
        "file_location2 = '/content/Gdrive/MyDrive/covid19_news_dataset_test.csv'\n",
        "dataset = FakeNewsDataset(file_location=file_location2,\n",
        "                          tokenizer=bert_tokenizer,\n",
        "                          min_len=MIN_LEN,\n",
        "                          max_len=MAX_LEN,\n",
        "                          chunk_len=CHUNK_LEN,\n",
        "                          max_size_dataset=max_size_dataset,\n",
        "                          overlap_len=OVERLAP_LEN,\n",
        "                          mode='train_eval',\n",
        "                          testdf=None\n",
        "                          )\n",
        "\n",
        "dataset_size = len(dataset)\n",
        "print('Total articles :' + str(dataset_size))\n"
      ],
      "execution_count": null,
      "outputs": [
        {
          "output_type": "stream",
          "text": [
            "Total articles :7132\n"
          ],
          "name": "stdout"
        }
      ]
    },
    {
      "cell_type": "code",
      "metadata": {
        "id": "IAEpKfj5MIxV"
      },
      "source": [
        "#print(df.groupby(['label']).size())\n",
        "testindex = np.arange(len(dataset))\n",
        "test_sampler = SubsetRandomSampler(testindex)\n",
        "test_data_loader=DataLoader(\n",
        "                              dataset,\n",
        "                              batch_size=1,\n",
        "                              sampler=test_sampler,\n",
        "                              collate_fn=my_collate1)\n"
      ],
      "execution_count": null,
      "outputs": []
    },
    {
      "cell_type": "code",
      "metadata": {
        "colab": {
          "base_uri": "https://localhost:8080/"
        },
        "id": "NLgi0wGvCLim",
        "outputId": "8312f3c3-6163-4a82-958d-fcbe3d8890f6"
      },
      "source": [
        "test_classes = [dataset.label[i] for i in test_sampler.indices]\n",
        "\n",
        "import collections\n",
        "print(f'Number of labels in Test set are :{collections.Counter(test_classes)}') "
      ],
      "execution_count": null,
      "outputs": [
        {
          "output_type": "stream",
          "text": [
            "Number of labels in Test set are :Counter({1: 3293, 0: 3165, 2: 342, 3: 332})\n"
          ],
          "name": "stdout"
        }
      ]
    },
    {
      "cell_type": "markdown",
      "metadata": {
        "id": "2vFaoLLdsqVL"
      },
      "source": [
        "## Train Bert"
      ]
    },
    {
      "cell_type": "code",
      "metadata": {
        "colab": {
          "base_uri": "https://localhost:8080/"
        },
        "id": "tW8Fcq-esJOB",
        "outputId": "8772255c-1fc4-4513-fc8a-6f511b138c4c"
      },
      "source": [
        "# Finetuning Data\n",
        "EPOCH = 1\n",
        "today = date.today()\n",
        "num_training_steps = int(len(dataset) / TRAIN_BATCH_SIZE * EPOCH)\n",
        "\n",
        "bert_model = model\n",
        "#bert_model = Bert_TextClassification_Model().to(device)\n",
        "# optimizer = SGD(model_hierarchical.parameters(), lr=0.01, momentum=0.9)\n",
        "optimizer = AdamW(bert_model.parameters(), lr=lr)\n",
        "scheduler = get_linear_schedule_with_warmup(optimizer,\n",
        "                                            num_warmup_steps=0,\n",
        "                                            num_training_steps=num_training_steps)\n",
        "val_losses = []\n",
        "batches_losses = []\n",
        "val_acc = []\n",
        "for epoch in range(EPOCH):\n",
        "    # Training loop----------------------------------\n",
        "    t0 = time.time()\n",
        "    print(f\"\\n \\t Training Bert:  EPOCH {epoch + 1} / {EPOCH}\\n\")\n",
        "    batches_losses_tmp = train_eval_bert_model(train_data_loader, bert_model, optimizer, device,'train')\n",
        "    epoch_loss = np.mean(batches_losses_tmp)\n",
        "    print(\n",
        "        f\"\\n \\t avg_loss : {epoch_loss:.2f}, time : ~{(time.time() - t0)//3600} hour ({(time.time() - t0)//60} min) \\n\")\n",
        "    \n",
        "    #Evaluation loop---------------------------------\n",
        "    t1 = time.time()\n",
        "    output, target, val_losses_tmp = train_eval_bert_model(valid_data_loader, bert_model, optimizer, device, 'eval')\n",
        "    print(f\"\\n \\t Evaluation : avg_loss = {np.mean(val_losses_tmp):.2f}, time : {(time.time() - t1)//60} min \\n\")\n",
        "    tmp_evaluate = evaluate(target.reshape(-1), output)\n",
        "\n",
        "  \t\n",
        "    # Predicting Accuracy-------------------------------\n",
        "    print(f\"\\t Accuracy = {tmp_evaluate['Accuracy']} \\n \\t No. of examples = {tmp_evaluate['No. of examples']}\\n\"\n",
        "          f\"\\t True prediction = {tmp_evaluate['True prediction']} \\n \\t False prediction = {tmp_evaluate['False prediction']} \\n\")\n",
        "  \n",
        "\n",
        "    val_acc.append(tmp_evaluate['Accuracy'])\n",
        "    val_losses.append(val_losses_tmp)\n",
        "    batches_losses.append(batches_losses_tmp)\n",
        "\n",
        "\n",
        "    #Saving model-------------------------------------\n",
        "    print(\"\\t Saving Bert model \")\n",
        "    torch.save(bert_model.state_dict(), f\"/content/Gdrive/My Drive/finetuned_BERT_Model-{today}-{epoch+1}.pt\")\n",
        "  \n"
      ],
      "execution_count": null,
      "outputs": [
        {
          "output_type": "stream",
          "text": [
            "\n",
            " \t Training Bert:  EPOCH 1 / 1\n",
            "\n",
            "batch index = 0 / 28551 (0.00%), loss = 0.1377, time = 0.0 minutes \n",
            "batch index = 1000 / 28551 (3.50%), loss = 0.1287, time = 5.0 minutes \n",
            "batch index = 2000 / 28551 (7.01%), loss = 0.4291, time = 5.0 minutes \n",
            "batch index = 3000 / 28551 (10.51%), loss = 0.5301, time = 5.0 minutes \n",
            "batch index = 4000 / 28551 (14.01%), loss = 0.6784, time = 5.0 minutes \n",
            "batch index = 5000 / 28551 (17.51%), loss = 0.1869, time = 5.0 minutes \n",
            "batch index = 6000 / 28551 (21.02%), loss = 0.3092, time = 5.0 minutes \n",
            "batch index = 7000 / 28551 (24.52%), loss = 0.2186, time = 4.0 minutes \n",
            "batch index = 8000 / 28551 (28.02%), loss = 0.1023, time = 5.0 minutes \n",
            "batch index = 9000 / 28551 (31.52%), loss = 0.4336, time = 5.0 minutes \n",
            "batch index = 10000 / 28551 (35.03%), loss = 0.1608, time = 5.0 minutes \n",
            "batch index = 11000 / 28551 (38.53%), loss = 0.0734, time = 5.0 minutes \n",
            "batch index = 12000 / 28551 (42.03%), loss = 0.3219, time = 5.0 minutes \n",
            "batch index = 13000 / 28551 (45.53%), loss = 0.2043, time = 5.0 minutes \n",
            "batch index = 14000 / 28551 (49.04%), loss = 0.1022, time = 5.0 minutes \n",
            "batch index = 15000 / 28551 (52.54%), loss = 0.6125, time = 5.0 minutes \n",
            "batch index = 16000 / 28551 (56.04%), loss = 0.3697, time = 5.0 minutes \n",
            "batch index = 17000 / 28551 (59.54%), loss = 0.2959, time = 5.0 minutes \n",
            "batch index = 18000 / 28551 (63.05%), loss = 0.1829, time = 4.0 minutes \n",
            "batch index = 19000 / 28551 (66.55%), loss = 0.3500, time = 5.0 minutes \n",
            "batch index = 20000 / 28551 (70.05%), loss = 0.3273, time = 5.0 minutes \n",
            "batch index = 21000 / 28551 (73.55%), loss = 0.1857, time = 5.0 minutes \n",
            "batch index = 22000 / 28551 (77.06%), loss = 0.1535, time = 5.0 minutes \n",
            "batch index = 23000 / 28551 (80.56%), loss = 0.2069, time = 5.0 minutes \n",
            "batch index = 24000 / 28551 (84.06%), loss = 0.1716, time = 5.0 minutes \n",
            "batch index = 25000 / 28551 (87.56%), loss = 0.4130, time = 5.0 minutes \n",
            "batch index = 26000 / 28551 (91.07%), loss = 0.3076, time = 5.0 minutes \n",
            "batch index = 27000 / 28551 (94.57%), loss = 0.8005, time = 5.0 minutes \n",
            "batch index = 28000 / 28551 (98.07%), loss = 0.4146, time = 5.0 minutes \n",
            "\n",
            " \t avg_loss : 0.34, time : ~2.0 hour (148.0 min) \n",
            "\n",
            "\n",
            " \t Evaluation : avg_loss = 0.34, time : 9.0 min \n",
            "\n",
            "\t Accuracy = 0.8874777897527016 \n",
            " \t No. of examples = 34331\n",
            "\t True prediction = 30468 \n",
            " \t False prediction = 3863 \n",
            "\n",
            "\t Saving Bert model \n"
          ],
          "name": "stdout"
        }
      ]
    },
    {
      "cell_type": "markdown",
      "metadata": {
        "id": "-TGitx-XFZgX"
      },
      "source": [
        "## Train BERT-LSTM Hybrid Model\n"
      ]
    },
    {
      "cell_type": "code",
      "metadata": {
        "id": "kxsbhXH8cZFa"
      },
      "source": [
        "model = Bert_TextClassification_Model()\n",
        "model.load_state_dict(torch.load('/content/drive/MyDrive/finetuned_BERT_Model-2021-03-03-1.pt'))\n",
        "model.to(device)\n",
        "model.eval()"
      ],
      "execution_count": null,
      "outputs": []
    },
    {
      "cell_type": "code",
      "metadata": {
        "colab": {
          "base_uri": "https://localhost:8080/"
        },
        "id": "Z5hYDN6lFZBI",
        "outputId": "07669ac0-f2b5-4dea-8327-ce1c3138fe42"
      },
      "source": [
        "# Latest\n",
        "'''\n",
        "# commenting this because I am not loading from the saved checkpoint\n",
        "model = Bert_TextClassification_Model()\n",
        "model.load_state_dict(torch.load('saved_Bert_Model1.pt'))\n",
        "model.to(device)\n",
        "model.eval()\n",
        "'''\n",
        "EPOCH = 2\n",
        "today = date.today()\n",
        "num_training_steps = int(len(dataset) / TRAIN_BATCH_SIZE * EPOCH)\n",
        "# Initializing/ loading Bert model trained before\n",
        "model = model\n",
        "\n",
        "#Loading all the layers of the bert model except the last one as explained in the class above.\n",
        "#model_roberta = RoBERT_Model(bertFineTuned=list(model.children())[0]).to(device)\n",
        "model_roberta = model_robert\n",
        "optimizer = AdamW(model_roberta.parameters(), lr=lr)\n",
        "scheduler = get_linear_schedule_with_warmup(optimizer,\n",
        "                                            num_warmup_steps=0,\n",
        "                                            num_training_steps=num_training_steps)\n",
        "val_losses = []\n",
        "train_losses = []\n",
        "batches_losses_train = []\n",
        "batches_losses_val = []\n",
        "val_acc = []\n",
        "train_acc = []\n",
        "for epoch in range(EPOCH):\n",
        "    # Training loop----------------------------------\n",
        "    t0 = time.time()\n",
        "    print(f\"\\n \\t Training Robert: EPOCH {epoch + 1} / {EPOCH} \\n\")\n",
        "    output, target, batches_losses_tmp = train_eval_robert_model(train_data_loader, model_roberta, optimizer, device,'train')\n",
        "    epoch_loss = np.mean(batches_losses_tmp)\n",
        "    print(\n",
        "        f\"\\n \\t avg_loss : {epoch_loss:.2f}, time : ~{(time.time() - t0) // 3600} hour ({(time.time() - t0) // 60} min)\\n\")\n",
        "    tmp_evaluate = evaluate(target.reshape(-1), output)\n",
        "\n",
        "    #Predicting accuracy------------------------------\n",
        "    print(f\"\\t Accuracy = {tmp_evaluate['Accuracy']} \\n \\t No. of examples = {tmp_evaluate['No. of examples']}\\n\"\n",
        "          f\"\\t True prediction = {tmp_evaluate['True prediction']} \\n \\t False prediction = {tmp_evaluate['False prediction']} \\n\")\n",
        "\n",
        "    train_acc.append(tmp_evaluate['Accuracy'])\n",
        "    train_losses.append(batches_losses_tmp)\n",
        "    #batches_losses_train.append(batches_losses_tmp)\n",
        "\n",
        "    \n",
        "    # Evaluation loop----------------------------------\n",
        "    t1 = time.time()\n",
        "    output, target, val_losses_tmp = train_eval_robert_model(valid_data_loader, model_roberta, optimizer, device,'eval')\n",
        "    print(f\"\\t  Evaluation : avg_loss = {np.mean(val_losses_tmp):.2f}, time : {(time.time() - t1) // 60} min \\n\")\n",
        "    tmp_evaluate = evaluate(target.reshape(-1), output)\n",
        "\n",
        "    #Predicting accuracy------------------------------\n",
        "    print(f\"\\t Accuracy = {tmp_evaluate['Accuracy']} \\n \\t No. of examples = {tmp_evaluate['No. of examples']}\\n\"\n",
        "          f\"\\t True prediction = {tmp_evaluate['True prediction']} \\n \\t False prediction = {tmp_evaluate['False prediction']} \\n\")\n",
        "\n",
        "\n",
        "    val_acc.append(tmp_evaluate['Accuracy'])\n",
        "    val_losses.append(val_losses_tmp)\n",
        "    #batches_losses_val.append(batches_losses_tmp)\n",
        "\n",
        "    # Saving the model\n",
        "    print(\"\\t Saving Roberta model \")\n",
        "    #torch.save(model_roberta.state_dict(), f\"/content/Gdrive/My Drive/RoBERT_Model-{today}-{epoch+1}.pt\")\n",
        "    torch.save(model_roberta.state_dict(), f\"/content/drive/MyDrive/RoBERT_Model-{today}-{epoch+1}.pt\")\n",
        "\n",
        "    # ----------------"
      ],
      "execution_count": null,
      "outputs": [
        {
          "output_type": "stream",
          "text": [
            "\n",
            " \t Training Robert: EPOCH 1 / 2 \n",
            "\n",
            "batch index = 0 / 23987 (0.00%), loss = 0.0937, time = 0.0 minutes\n",
            "batch index = 1000 / 23987 (4.17%), loss = 0.0029, time = 5.0 minutes\n",
            "batch index = 2000 / 23987 (8.34%), loss = 0.3371, time = 5.0 minutes\n",
            "batch index = 3000 / 23987 (12.51%), loss = 0.0444, time = 4.0 minutes\n",
            "batch index = 4000 / 23987 (16.68%), loss = 0.2242, time = 5.0 minutes\n",
            "batch index = 5000 / 23987 (20.84%), loss = 0.1646, time = 4.0 minutes\n",
            "batch index = 6000 / 23987 (25.01%), loss = 0.2561, time = 4.0 minutes\n",
            "batch index = 7000 / 23987 (29.18%), loss = 0.0453, time = 4.0 minutes\n",
            "batch index = 8000 / 23987 (33.35%), loss = 0.7569, time = 5.0 minutes\n",
            "batch index = 9000 / 23987 (37.52%), loss = 0.1641, time = 4.0 minutes\n",
            "batch index = 10000 / 23987 (41.69%), loss = 0.0167, time = 5.0 minutes\n",
            "batch index = 11000 / 23987 (45.86%), loss = 0.1191, time = 4.0 minutes\n",
            "batch index = 12000 / 23987 (50.03%), loss = 0.0186, time = 4.0 minutes\n",
            "batch index = 13000 / 23987 (54.20%), loss = 0.4588, time = 5.0 minutes\n",
            "batch index = 14000 / 23987 (58.36%), loss = 0.0366, time = 5.0 minutes\n",
            "batch index = 15000 / 23987 (62.53%), loss = 0.1050, time = 5.0 minutes\n",
            "batch index = 16000 / 23987 (66.70%), loss = 0.0295, time = 5.0 minutes\n",
            "batch index = 17000 / 23987 (70.87%), loss = 0.2126, time = 5.0 minutes\n",
            "batch index = 18000 / 23987 (75.04%), loss = 0.0835, time = 5.0 minutes\n",
            "batch index = 19000 / 23987 (79.21%), loss = 0.5165, time = 5.0 minutes\n",
            "batch index = 20000 / 23987 (83.38%), loss = 0.0157, time = 5.0 minutes\n",
            "batch index = 21000 / 23987 (87.55%), loss = 0.0586, time = 5.0 minutes\n",
            "batch index = 22000 / 23987 (91.72%), loss = 0.1141, time = 5.0 minutes\n",
            "batch index = 23000 / 23987 (95.89%), loss = 0.4380, time = 5.0 minutes\n",
            "\n",
            " \t avg_loss : 0.14, time : ~2.0 hour (122.0 min)\n",
            "\n",
            "\t Accuracy = 0.9591028473756619 \n",
            " \t No. of examples = 23987\n",
            "\t True prediction = 23006 \n",
            " \t False prediction = 981 \n",
            "\n",
            "\t  Evaluation : avg_loss = 0.22, time : 5.0 min \n",
            "\n",
            "\t Accuracy = 0.9385120350109409 \n",
            " \t No. of examples = 4570\n",
            "\t True prediction = 4289 \n",
            " \t False prediction = 281 \n",
            "\n",
            "\t Saving Roberta model \n",
            "\n",
            " \t Training Robert: EPOCH 2 / 2 \n",
            "\n",
            "batch index = 0 / 23987 (0.00%), loss = 0.0011, time = 0.0 minutes\n",
            "batch index = 1000 / 23987 (4.17%), loss = 0.0748, time = 5.0 minutes\n",
            "batch index = 2000 / 23987 (8.34%), loss = 0.0929, time = 5.0 minutes\n",
            "batch index = 3000 / 23987 (12.51%), loss = 0.2284, time = 5.0 minutes\n",
            "batch index = 4000 / 23987 (16.68%), loss = 0.0354, time = 5.0 minutes\n",
            "batch index = 5000 / 23987 (20.84%), loss = 0.4309, time = 5.0 minutes\n",
            "batch index = 6000 / 23987 (25.01%), loss = 0.0114, time = 5.0 minutes\n",
            "batch index = 7000 / 23987 (29.18%), loss = 0.2427, time = 5.0 minutes\n",
            "batch index = 8000 / 23987 (33.35%), loss = 0.1212, time = 5.0 minutes\n",
            "batch index = 9000 / 23987 (37.52%), loss = 0.0304, time = 5.0 minutes\n",
            "batch index = 10000 / 23987 (41.69%), loss = 0.0181, time = 4.0 minutes\n",
            "batch index = 11000 / 23987 (45.86%), loss = 0.0052, time = 5.0 minutes\n",
            "batch index = 12000 / 23987 (50.03%), loss = 0.0031, time = 5.0 minutes\n",
            "batch index = 13000 / 23987 (54.20%), loss = 0.0246, time = 5.0 minutes\n",
            "batch index = 14000 / 23987 (58.36%), loss = 0.0097, time = 5.0 minutes\n",
            "batch index = 15000 / 23987 (62.53%), loss = 0.0180, time = 5.0 minutes\n",
            "batch index = 16000 / 23987 (66.70%), loss = 0.0482, time = 5.0 minutes\n",
            "batch index = 17000 / 23987 (70.87%), loss = 0.7874, time = 5.0 minutes\n",
            "batch index = 18000 / 23987 (75.04%), loss = 0.1423, time = 5.0 minutes\n",
            "batch index = 19000 / 23987 (79.21%), loss = 0.2817, time = 4.0 minutes\n",
            "batch index = 20000 / 23987 (83.38%), loss = 0.0151, time = 5.0 minutes\n",
            "batch index = 21000 / 23987 (87.55%), loss = 0.2125, time = 5.0 minutes\n",
            "batch index = 22000 / 23987 (91.72%), loss = 0.0081, time = 5.0 minutes\n",
            "batch index = 23000 / 23987 (95.89%), loss = 0.0641, time = 5.0 minutes\n",
            "\n",
            " \t avg_loss : 0.16, time : ~2.0 hour (123.0 min)\n",
            "\n",
            "\t Accuracy = 0.9554341935214908 \n",
            " \t No. of examples = 23987\n",
            "\t True prediction = 22918 \n",
            " \t False prediction = 1069 \n",
            "\n",
            "\t  Evaluation : avg_loss = 0.16, time : 5.0 min \n",
            "\n",
            "\t Accuracy = 0.9614879649890591 \n",
            " \t No. of examples = 4570\n",
            "\t True prediction = 4394 \n",
            " \t False prediction = 176 \n",
            "\n",
            "\t Saving Roberta model \n"
          ],
          "name": "stdout"
        }
      ]
    },
    {
      "cell_type": "code",
      "metadata": {
        "colab": {
          "base_uri": "https://localhost:8080/"
        },
        "id": "ZtqmM9oMknNn",
        "outputId": "ddfa6fde-ebca-42e7-f626-232b0602d4f8"
      },
      "source": [
        "EPOCH = 2\n",
        "today = date.today()\n",
        "num_training_steps = int(len(dataset) / TRAIN_BATCH_SIZE * EPOCH)\n",
        "# Initializing/ loading Bert model trained before\n",
        "model = model\n",
        "\n",
        "#Loading all the layers of the bert model except the last one as explained in the class above.\n",
        "#model_roberta = RoBERT_Model(bertFineTuned=list(model.children())[0]).to(device)\n",
        "model_roberta = model_roberta\n",
        "optimizer = AdamW(model_roberta.parameters(), lr=lr)\n",
        "scheduler = get_linear_schedule_with_warmup(optimizer,\n",
        "                                            num_warmup_steps=0,\n",
        "                                            num_training_steps=num_training_steps)\n",
        "val_losses = []\n",
        "train_losses = []\n",
        "batches_losses_train = []\n",
        "batches_losses_val = []\n",
        "val_acc = []\n",
        "train_acc = []\n",
        "for epoch in range(EPOCH):\n",
        "    # Training loop----------------------------------\n",
        "    t0 = time.time()\n",
        "    print(f\"\\n \\t Training Robert: EPOCH {epoch + 1} / {EPOCH} \\n\")\n",
        "    output, target, batches_losses_tmp = train_eval_robert_model(train_data_loader, model_roberta, optimizer, device,'train')\n",
        "    epoch_loss = np.mean(batches_losses_tmp)\n",
        "    print(\n",
        "        f\"\\n \\t avg_loss : {epoch_loss:.2f}, time : ~{(time.time() - t0) // 3600} hour ({(time.time() - t0) // 60} min)\\n\")\n",
        "    tmp_evaluate = evaluate(target.reshape(-1), output)\n",
        "\n",
        "    #Predicting accuracy------------------------------\n",
        "    print(f\"\\t Accuracy = {tmp_evaluate['Accuracy']} \\n \\t No. of examples = {tmp_evaluate['No. of examples']}\\n\"\n",
        "          f\"\\t True prediction = {tmp_evaluate['True prediction']} \\n \\t False prediction = {tmp_evaluate['False prediction']} \\n\")\n",
        "\n",
        "    train_acc.append(tmp_evaluate['Accuracy'])\n",
        "    train_losses.append(batches_losses_tmp)\n",
        "    #batches_losses_train.append(batches_losses_tmp)\n",
        "\n",
        "    \n",
        "    # Evaluation loop----------------------------------\n",
        "    t1 = time.time()\n",
        "    output, target, val_losses_tmp = train_eval_robert_model(valid_data_loader, model_roberta, optimizer, device,'eval')\n",
        "    print(f\"\\t  Evaluation : avg_loss = {np.mean(val_losses_tmp):.2f}, time : {(time.time() - t1) // 60} min \\n\")\n",
        "    tmp_evaluate = evaluate(target.reshape(-1), output)\n",
        "\n",
        "    #Predicting accuracy------------------------------\n",
        "    print(f\"\\t Accuracy = {tmp_evaluate['Accuracy']} \\n \\t No. of examples = {tmp_evaluate['No. of examples']}\\n\"\n",
        "          f\"\\t True prediction = {tmp_evaluate['True prediction']} \\n \\t False prediction = {tmp_evaluate['False prediction']} \\n\")\n",
        "\n",
        "\n",
        "    val_acc.append(tmp_evaluate['Accuracy'])\n",
        "    val_losses.append(val_losses_tmp)\n",
        "    #batches_losses_val.append(batches_losses_tmp)\n",
        "\n",
        "    # Saving the model\n",
        "    print(\"\\t Saving Roberta model \")\n",
        "    #torch.save(model_roberta.state_dict(), f\"/content/Gdrive/My Drive/RoBERT_Model-{today}-{epoch+1}.pt\")\n",
        "    torch.save(model_roberta.state_dict(), f\"/content/drive/MyDrive/RoBERT_Model-{today}-{epoch+1}.pt\")\n",
        "\n",
        "    # ----------------\n"
      ],
      "execution_count": null,
      "outputs": [
        {
          "output_type": "stream",
          "text": [
            "\n",
            " \t Training Robert: EPOCH 1 / 2 \n",
            "\n",
            "batch index = 0 / 23987 (0.00%), loss = 1.1341, time = 0.0 minutes\n",
            "batch index = 1000 / 23987 (4.17%), loss = 1.1864, time = 4.0 minutes\n",
            "batch index = 2000 / 23987 (8.34%), loss = 0.4006, time = 4.0 minutes\n",
            "batch index = 3000 / 23987 (12.51%), loss = 0.4653, time = 4.0 minutes\n",
            "batch index = 4000 / 23987 (16.68%), loss = 0.3271, time = 4.0 minutes\n",
            "batch index = 5000 / 23987 (20.84%), loss = 0.0322, time = 4.0 minutes\n",
            "batch index = 6000 / 23987 (25.01%), loss = 0.0134, time = 4.0 minutes\n",
            "batch index = 7000 / 23987 (29.18%), loss = 0.4176, time = 4.0 minutes\n",
            "batch index = 8000 / 23987 (33.35%), loss = 0.0195, time = 4.0 minutes\n",
            "batch index = 9000 / 23987 (37.52%), loss = 0.0334, time = 4.0 minutes\n",
            "batch index = 10000 / 23987 (41.69%), loss = 0.8658, time = 4.0 minutes\n",
            "batch index = 11000 / 23987 (45.86%), loss = 0.3532, time = 4.0 minutes\n",
            "batch index = 12000 / 23987 (50.03%), loss = 0.0369, time = 4.0 minutes\n",
            "batch index = 13000 / 23987 (54.20%), loss = 0.0210, time = 4.0 minutes\n",
            "batch index = 14000 / 23987 (58.36%), loss = 0.5737, time = 4.0 minutes\n",
            "batch index = 15000 / 23987 (62.53%), loss = 0.0151, time = 4.0 minutes\n",
            "batch index = 16000 / 23987 (66.70%), loss = 0.0903, time = 4.0 minutes\n",
            "batch index = 17000 / 23987 (70.87%), loss = 0.2720, time = 4.0 minutes\n",
            "batch index = 18000 / 23987 (75.04%), loss = 0.0108, time = 4.0 minutes\n",
            "batch index = 19000 / 23987 (79.21%), loss = 0.0381, time = 4.0 minutes\n",
            "batch index = 20000 / 23987 (83.38%), loss = 0.2581, time = 4.0 minutes\n",
            "batch index = 21000 / 23987 (87.55%), loss = 0.0099, time = 4.0 minutes\n",
            "batch index = 22000 / 23987 (91.72%), loss = 0.5748, time = 4.0 minutes\n",
            "batch index = 23000 / 23987 (95.89%), loss = 0.0311, time = 4.0 minutes\n",
            "\n",
            " \t avg_loss : 0.14, time : ~1.0 hour (115.0 min)\n",
            "\n",
            "\t Accuracy = 0.9591862258723475 \n",
            " \t No. of examples = 23987\n",
            "\t True prediction = 23008 \n",
            " \t False prediction = 979 \n",
            "\n",
            "\t  Evaluation : avg_loss = 0.31, time : 5.0 min \n",
            "\n",
            "\t Accuracy = 0.9205689277899344 \n",
            " \t No. of examples = 4570\n",
            "\t True prediction = 4207 \n",
            " \t False prediction = 363 \n",
            "\n",
            "\t Saving Roberta model \n",
            "\n",
            " \t Training Robert: EPOCH 2 / 2 \n",
            "\n",
            "batch index = 0 / 23987 (0.00%), loss = 0.0236, time = 0.0 minutes\n",
            "batch index = 1000 / 23987 (4.17%), loss = 0.0303, time = 4.0 minutes\n",
            "batch index = 2000 / 23987 (8.34%), loss = 0.0178, time = 4.0 minutes\n",
            "batch index = 3000 / 23987 (12.51%), loss = 0.0718, time = 4.0 minutes\n",
            "batch index = 4000 / 23987 (16.68%), loss = 0.0911, time = 4.0 minutes\n",
            "batch index = 5000 / 23987 (20.84%), loss = 0.0204, time = 4.0 minutes\n",
            "batch index = 6000 / 23987 (25.01%), loss = 0.2313, time = 4.0 minutes\n",
            "batch index = 7000 / 23987 (29.18%), loss = 0.0210, time = 4.0 minutes\n",
            "batch index = 8000 / 23987 (33.35%), loss = 0.0181, time = 4.0 minutes\n",
            "batch index = 9000 / 23987 (37.52%), loss = 0.0179, time = 4.0 minutes\n",
            "batch index = 10000 / 23987 (41.69%), loss = 0.1482, time = 4.0 minutes\n",
            "batch index = 11000 / 23987 (45.86%), loss = 0.5531, time = 4.0 minutes\n",
            "batch index = 12000 / 23987 (50.03%), loss = 0.6285, time = 4.0 minutes\n",
            "batch index = 13000 / 23987 (54.20%), loss = 0.0314, time = 4.0 minutes\n",
            "batch index = 14000 / 23987 (58.36%), loss = 0.0056, time = 4.0 minutes\n",
            "batch index = 15000 / 23987 (62.53%), loss = 0.1685, time = 4.0 minutes\n",
            "batch index = 16000 / 23987 (66.70%), loss = 0.2039, time = 5.0 minutes\n",
            "batch index = 17000 / 23987 (70.87%), loss = 0.8029, time = 4.0 minutes\n",
            "batch index = 18000 / 23987 (75.04%), loss = 0.1912, time = 4.0 minutes\n",
            "batch index = 19000 / 23987 (79.21%), loss = 0.0177, time = 4.0 minutes\n",
            "batch index = 20000 / 23987 (83.38%), loss = 0.0319, time = 5.0 minutes\n",
            "batch index = 21000 / 23987 (87.55%), loss = 0.4833, time = 4.0 minutes\n",
            "batch index = 22000 / 23987 (91.72%), loss = 0.0223, time = 4.0 minutes\n",
            "batch index = 23000 / 23987 (95.89%), loss = 0.0562, time = 4.0 minutes\n",
            "\n",
            " \t avg_loss : 0.13, time : ~1.0 hour (115.0 min)\n",
            "\n",
            "\t Accuracy = 0.9617292700212615 \n",
            " \t No. of examples = 23987\n",
            "\t True prediction = 23069 \n",
            " \t False prediction = 918 \n",
            "\n",
            "\t  Evaluation : avg_loss = 0.16, time : 5.0 min \n",
            "\n",
            "\t Accuracy = 0.9566739606126915 \n",
            " \t No. of examples = 4570\n",
            "\t True prediction = 4372 \n",
            " \t False prediction = 198 \n",
            "\n",
            "\t Saving Roberta model \n"
          ],
          "name": "stdout"
        }
      ]
    },
    {
      "cell_type": "code",
      "metadata": {
        "colab": {
          "base_uri": "https://localhost:8080/"
        },
        "id": "fLYKTrzJdfEt",
        "outputId": "9202bc25-f992-463e-b198-19bf728743c6"
      },
      "source": [
        "EPOCH = 2\n",
        "today = date.today()\n",
        "num_training_steps = int(len(dataset) / TRAIN_BATCH_SIZE * EPOCH)\n",
        "# Initializing/ loading Bert model trained before\n",
        "model = model\n",
        "\n",
        "#Loading all the layers of the bert model except the last one as explained in the class above.\n",
        "#model_roberta = RoBERT_Model(bertFineTuned=list(model.children())[0]).to(device)\n",
        "model_roberta = model_robert\n",
        "optimizer = AdamW(model_roberta.parameters(), lr=lr)\n",
        "scheduler = get_linear_schedule_with_warmup(optimizer,\n",
        "                                            num_warmup_steps=0,\n",
        "                                            num_training_steps=num_training_steps)\n",
        "val_losses = []\n",
        "train_losses = []\n",
        "batches_losses_train = []\n",
        "batches_losses_val = []\n",
        "val_acc = []\n",
        "train_acc = []\n",
        "for epoch in range(EPOCH):\n",
        "    # Training loop----------------------------------\n",
        "    t0 = time.time()\n",
        "    print(f\"\\n \\t Training Robert: EPOCH {epoch + 1} / {EPOCH} \\n\")\n",
        "    output, target, batches_losses_tmp = train_eval_robert_model(train_data_loader, model_roberta, optimizer, device,'train')\n",
        "    epoch_loss = np.mean(batches_losses_tmp)\n",
        "    print(\n",
        "        f\"\\n \\t avg_loss : {epoch_loss:.2f}, time : ~{(time.time() - t0) // 3600} hour ({(time.time() - t0) // 60} min)\\n\")\n",
        "    tmp_evaluate = evaluate(target.reshape(-1), output)\n",
        "\n",
        "    #Predicting accuracy------------------------------\n",
        "    print(f\"\\t Accuracy = {tmp_evaluate['Accuracy']} \\n \\t No. of examples = {tmp_evaluate['No. of examples']}\\n\"\n",
        "          f\"\\t True prediction = {tmp_evaluate['True prediction']} \\n \\t False prediction = {tmp_evaluate['False prediction']} \\n\")\n",
        "\n",
        "    train_acc.append(tmp_evaluate['Accuracy'])\n",
        "    train_losses.append(batches_losses_tmp)\n",
        "    #batches_losses_train.append(batches_losses_tmp)\n",
        "\n",
        "    \n",
        "    # Evaluation loop----------------------------------\n",
        "    t1 = time.time()\n",
        "    output, target, val_losses_tmp = train_eval_robert_model(valid_data_loader, model_roberta, optimizer, device,'eval')\n",
        "    print(f\"\\t  Evaluation : avg_loss = {np.mean(val_losses_tmp):.2f}, time : {(time.time() - t1) // 60} min \\n\")\n",
        "    tmp_evaluate = evaluate(target.reshape(-1), output)\n",
        "\n",
        "    #Predicting accuracy------------------------------\n",
        "    print(f\"\\t Accuracy = {tmp_evaluate['Accuracy']} \\n \\t No. of examples = {tmp_evaluate['No. of examples']}\\n\"\n",
        "          f\"\\t True prediction = {tmp_evaluate['True prediction']} \\n \\t False prediction = {tmp_evaluate['False prediction']} \\n\")\n",
        "\n",
        "\n",
        "    val_acc.append(tmp_evaluate['Accuracy'])\n",
        "    val_losses.append(val_losses_tmp)\n",
        "    #batches_losses_val.append(batches_losses_tmp)\n",
        "\n",
        "    # Saving the model\n",
        "    print(\"\\t Saving Roberta model \")\n",
        "    #torch.save(model_roberta.state_dict(), f\"/content/Gdrive/My Drive/RoBERT_Model-{today}-{epoch+1}.pt\")\n",
        "    torch.save(model_roberta.state_dict(), f\"/content/drive/MyDrive/RoBERT_Model-{today}-{epoch+1}.pt\")\n",
        "\n",
        "    # ----------------\n"
      ],
      "execution_count": null,
      "outputs": [
        {
          "output_type": "stream",
          "text": [
            "\n",
            " \t Training Robert: EPOCH 1 / 2 \n",
            "\n",
            "batch index = 0 / 23987 (0.00%), loss = 0.1761, time = 0.0 minutes\n",
            "batch index = 1000 / 23987 (4.17%), loss = 0.0142, time = 8.0 minutes\n",
            "batch index = 2000 / 23987 (8.34%), loss = 0.0863, time = 8.0 minutes\n",
            "batch index = 3000 / 23987 (12.51%), loss = 0.3922, time = 8.0 minutes\n",
            "batch index = 4000 / 23987 (16.68%), loss = 0.0592, time = 8.0 minutes\n",
            "batch index = 5000 / 23987 (20.84%), loss = 0.5011, time = 9.0 minutes\n",
            "batch index = 6000 / 23987 (25.01%), loss = 0.0210, time = 8.0 minutes\n",
            "batch index = 7000 / 23987 (29.18%), loss = 0.1459, time = 9.0 minutes\n",
            "batch index = 8000 / 23987 (33.35%), loss = 0.0202, time = 8.0 minutes\n",
            "batch index = 9000 / 23987 (37.52%), loss = 0.0080, time = 8.0 minutes\n",
            "batch index = 10000 / 23987 (41.69%), loss = 0.0624, time = 8.0 minutes\n",
            "batch index = 11000 / 23987 (45.86%), loss = 0.2910, time = 8.0 minutes\n",
            "batch index = 12000 / 23987 (50.03%), loss = 0.2967, time = 9.0 minutes\n",
            "batch index = 13000 / 23987 (54.20%), loss = 0.5721, time = 8.0 minutes\n",
            "batch index = 14000 / 23987 (58.36%), loss = 0.3487, time = 8.0 minutes\n",
            "batch index = 15000 / 23987 (62.53%), loss = 0.0278, time = 9.0 minutes\n",
            "batch index = 16000 / 23987 (66.70%), loss = 0.4562, time = 9.0 minutes\n",
            "batch index = 17000 / 23987 (70.87%), loss = 0.3025, time = 8.0 minutes\n",
            "batch index = 18000 / 23987 (75.04%), loss = 0.0299, time = 9.0 minutes\n",
            "batch index = 19000 / 23987 (79.21%), loss = 0.5330, time = 8.0 minutes\n",
            "batch index = 20000 / 23987 (83.38%), loss = 0.0813, time = 8.0 minutes\n",
            "batch index = 21000 / 23987 (87.55%), loss = 0.0387, time = 9.0 minutes\n",
            "batch index = 22000 / 23987 (91.72%), loss = 0.1056, time = 8.0 minutes\n",
            "batch index = 23000 / 23987 (95.89%), loss = 0.0788, time = 9.0 minutes\n",
            "\n",
            " \t avg_loss : 0.18, time : ~3.0 hour (214.0 min)\n",
            "\n",
            "\t Accuracy = 0.952265810647434 \n",
            " \t No. of examples = 23987\n",
            "\t True prediction = 22842 \n",
            " \t False prediction = 1145 \n",
            "\n",
            "\t  Evaluation : avg_loss = 0.34, time : 10.0 min \n",
            "\n",
            "\t Accuracy = 0.9111597374179431 \n",
            " \t No. of examples = 4570\n",
            "\t True prediction = 4164 \n",
            " \t False prediction = 406 \n",
            "\n",
            "\t Saving Roberta model \n",
            "\n",
            " \t Training Robert: EPOCH 2 / 2 \n",
            "\n",
            "batch index = 0 / 23987 (0.00%), loss = 0.0368, time = 0.0 minutes\n",
            "batch index = 1000 / 23987 (4.17%), loss = 0.0485, time = 8.0 minutes\n",
            "batch index = 2000 / 23987 (8.34%), loss = 0.0481, time = 8.0 minutes\n",
            "batch index = 3000 / 23987 (12.51%), loss = 0.1613, time = 8.0 minutes\n",
            "batch index = 4000 / 23987 (16.68%), loss = 0.0096, time = 8.0 minutes\n",
            "batch index = 5000 / 23987 (20.84%), loss = 0.0148, time = 9.0 minutes\n",
            "batch index = 6000 / 23987 (25.01%), loss = 0.1522, time = 9.0 minutes\n",
            "batch index = 7000 / 23987 (29.18%), loss = 0.7629, time = 9.0 minutes\n",
            "batch index = 8000 / 23987 (33.35%), loss = 0.0189, time = 8.0 minutes\n",
            "batch index = 9000 / 23987 (37.52%), loss = 0.5427, time = 9.0 minutes\n",
            "batch index = 10000 / 23987 (41.69%), loss = 0.0179, time = 8.0 minutes\n",
            "batch index = 11000 / 23987 (45.86%), loss = 0.0181, time = 9.0 minutes\n",
            "batch index = 12000 / 23987 (50.03%), loss = 0.1129, time = 9.0 minutes\n",
            "batch index = 13000 / 23987 (54.20%), loss = 0.0118, time = 9.0 minutes\n",
            "batch index = 14000 / 23987 (58.36%), loss = 0.2594, time = 9.0 minutes\n",
            "batch index = 15000 / 23987 (62.53%), loss = 0.0242, time = 9.0 minutes\n",
            "batch index = 16000 / 23987 (66.70%), loss = 0.1129, time = 9.0 minutes\n",
            "batch index = 17000 / 23987 (70.87%), loss = 0.1501, time = 8.0 minutes\n",
            "batch index = 18000 / 23987 (75.04%), loss = 0.0415, time = 8.0 minutes\n",
            "batch index = 19000 / 23987 (79.21%), loss = 0.0554, time = 8.0 minutes\n",
            "batch index = 20000 / 23987 (83.38%), loss = 0.1039, time = 9.0 minutes\n",
            "batch index = 21000 / 23987 (87.55%), loss = 0.0595, time = 8.0 minutes\n",
            "batch index = 22000 / 23987 (91.72%), loss = 0.1697, time = 9.0 minutes\n"
          ],
          "name": "stdout"
        }
      ]
    },
    {
      "cell_type": "markdown",
      "metadata": {
        "id": "4TUQS2AmbFa0"
      },
      "source": [
        "## Check Parameters "
      ]
    },
    {
      "cell_type": "code",
      "metadata": {
        "id": "wStn7dE7bI5t"
      },
      "source": [
        "from prettytable import PrettyTable\n",
        "\n",
        "def count_parameters(model):\n",
        "    table = PrettyTable([\"Modules\", \"Parameters\"])\n",
        "    total_params = 0\n",
        "    for name, parameter in model.named_parameters():\n",
        "        if not parameter.requires_grad: continue\n",
        "        param = parameter.numel()\n",
        "        table.add_row([name, param])\n",
        "        total_params+=param\n",
        "    print(table)\n",
        "    print(f\"Total Trainable Params: {total_params}\")\n",
        "    return total_params\n",
        "    \n",
        "count_parameters(model_roberta)"
      ],
      "execution_count": null,
      "outputs": []
    },
    {
      "cell_type": "markdown",
      "metadata": {
        "id": "Nr0Vwb_cnIsa"
      },
      "source": [
        "## Check Accuracy"
      ]
    },
    {
      "cell_type": "code",
      "metadata": {
        "id": "KpuwOpBCIPFR"
      },
      "source": [
        "y_pred = np.argmax(output, axis=1).flatten() #Estimated targets as returned by a classifier.\n",
        "y_test = target #Ground truth (correct) target values."
      ],
      "execution_count": null,
      "outputs": []
    },
    {
      "cell_type": "code",
      "metadata": {
        "id": "o6iuPVTIuOtF",
        "colab": {
          "base_uri": "https://localhost:8080/"
        },
        "outputId": "b9e1a2ad-2818-4c1a-c03a-846200be032b"
      },
      "source": [
        "dataset.label_count.index"
      ],
      "execution_count": null,
      "outputs": [
        {
          "output_type": "execute_result",
          "data": {
            "text/plain": [
              "Index(['High probability true', 'High probability fake ', 'fake', 'true'], dtype='object')"
            ]
          },
          "metadata": {
            "tags": []
          },
          "execution_count": 21
        }
      ]
    },
    {
      "cell_type": "code",
      "metadata": {
        "id": "VNtH6iYMH4FF",
        "colab": {
          "base_uri": "https://localhost:8080/",
          "height": 459
        },
        "outputId": "6398a383-62a5-42a2-fd23-e492f2e38aab"
      },
      "source": [
        "#calculate confusion matrix\n",
        "#cnf_matrix = confusion_matrix(y_test, y_pred, labels=[0,1])\n",
        "cnf_matrix = confusion_matrix(y_test, y_pred, labels=[0,1,2,3])\n",
        "\n",
        "#calculate Precision and recall from Conf_matrix\n",
        "tp = np.diag(cnf_matrix)\n",
        "prec = list(map(truediv, tp, np.sum(cnf_matrix, axis=0)))\n",
        "rec = list(map(truediv, tp, np.sum(cnf_matrix, axis=1)))\n",
        "\n",
        "# Plot non-normalized confusion matrix\n",
        "plt.figure(figsize=(8, 6))\n",
        "plot_confusion_matrix(cnf_matrix, classes=dataset.label_count.index,title='Confusion matrix, without normalization')"
      ],
      "execution_count": null,
      "outputs": [
        {
          "output_type": "stream",
          "text": [
            "Confusion matrix, without normalization\n"
          ],
          "name": "stdout"
        },
        {
          "output_type": "display_data",
          "data": {
            "image/png": "[encoded data removed]",
            "text/plain": [
              "<Figure size 576x432 with 2 Axes>"
            ]
          },
          "metadata": {
            "tags": [],
            "needs_background": "light"
          }
        }
      ]
    },
    {
      "cell_type": "code",
      "metadata": {
        "id": "1ufMJAEGdLCu",
        "colab": {
          "base_uri": "https://localhost:8080/"
        },
        "outputId": "8033fc3c-0e0f-4f62-86bf-fa682f92e4c0"
      },
      "source": [
        "get_f1_precision_recall(y_test,y_pred)"
      ],
      "execution_count": null,
      "outputs": [
        {
          "output_type": "stream",
          "text": [
            "precision: [0.96 0.96 0.85 0.88]\n",
            "recall   : [0.94 1.00 0.61 0.92]\n",
            "fscore   : [0.95 0.98 0.71 0.90]\n"
          ],
          "name": "stdout"
        }
      ]
    },
    {
      "cell_type": "markdown",
      "metadata": {
        "id": "cInLjRhStUKA"
      },
      "source": [
        "## Load Trained Model"
      ]
    },
    {
      "cell_type": "code",
      "metadata": {
        "id": "MbFJozZQxBBy"
      },
      "source": [
        "model"
      ],
      "execution_count": null,
      "outputs": []
    },
    {
      "cell_type": "code",
      "metadata": {
        "id": "le3dZNFztW3r"
      },
      "source": [
        "model = Bert_TextClassification_Model()\n",
        "model.load_state_dict(torch.load('/content/Gdrive/MyDrive/finetuned_BERT_Model-2020-12-14-2.pt'))\n",
        "model.to(device)\n",
        "model.eval()\n",
        "file_location3 = '/content/Gdrive/MyDrive/recovery-news-data.csv'"
      ],
      "execution_count": null,
      "outputs": []
    },
    {
      "cell_type": "code",
      "metadata": {
        "id": "CDxZFnb7vTLQ"
      },
      "source": [
        "model_robert = RoBERT_Model(bertFineTuned=list(model.children())[0]).to(device)\n",
        "model_robert.load_state_dict(torch.load('/content/Gdrive/MyDrive/RoBERT_Model-2021-02-15-2.pt'))\n",
        "model_robert.to(device)\n",
        "model_robert.eval()"
      ],
      "execution_count": null,
      "outputs": []
    },
    {
      "cell_type": "code",
      "metadata": {
        "id": "p8XdKdnig7i2"
      },
      "source": [
        "from prettytable import PrettyTable\n",
        "\n",
        "def count_parameters(model):\n",
        "    table = PrettyTable([\"Modules\", \"Parameters\"])\n",
        "    total_params = 0\n",
        "    for name, parameter in model.named_parameters():\n",
        "        if not parameter.requires_grad: continue\n",
        "        param = parameter.numel()\n",
        "        table.add_row([name, param])\n",
        "        total_params+=param\n",
        "    print(table)\n",
        "    print(f\"Total Trainable Params: {total_params}\")\n",
        "    return total_params\n",
        "    \n",
        "count_parameters(model_robert)"
      ],
      "execution_count": null,
      "outputs": []
    },
    {
      "cell_type": "markdown",
      "metadata": {
        "id": "coWYZc7IsVgB"
      },
      "source": [
        "## Predict test data"
      ]
    },
    {
      "cell_type": "code",
      "metadata": {
        "id": "Fifg8K-THfm0"
      },
      "source": [
        "url = 'https://www.who.int/news-room/detail/08-04-2020-strengthening-accountability-to-end-tb'"
      ],
      "execution_count": null,
      "outputs": []
    },
    {
      "cell_type": "code",
      "metadata": {
        "id": "sQjSeMMWSkpz"
      },
      "source": [
        "predict_article(url,model=model,model_roberta=model_robert)"
      ],
      "execution_count": null,
      "outputs": []
    }
  ]
}